{
 "cells": [
  {
   "cell_type": "markdown",
   "metadata": {
    "id": "HHa2nJmwZycV"
   },
   "source": [
    "# **Fundamentos em Machine Learning - Projeto Final**"
   ]
  },
  {
   "cell_type": "markdown",
   "metadata": {
    "id": "KXY2fDS5aCYK"
   },
   "source": [
    "***Nesta atividade avaliativa você deverá demonstrar os conhecimentos adquiridos no curso, aplicando-os em uma tarefa de aprendizado supervisionado.***"
   ]
  },
  {
   "cell_type": "markdown",
   "metadata": {
    "id": "UOx2zMBJfSRW"
   },
   "source": [
    "\n",
    "*   Você deverá utilizar o conjunto de dados ***Social Network Ads***, disponível em: https://www.kaggle.com/rakeshrau/social-network-ads/download\n",
    "\n",
    "> Este conjunto de dados (dataset) apresenta dados sobre usuários em uma rede social e seu comportamento de compra. O objetivo do seu projeto final é utilizar ML para responder se um determinado usuário, após clicar em um anúncio na rede social comprará ou não um determinado produto. (Purchased, 0 = não, 1 = sim)\n",
    "\n"
   ]
  },
  {
   "cell_type": "markdown",
   "metadata": {
    "id": "1qIw8z_Z5JzD"
   },
   "source": [
    "\n",
    "*   Utilize as bibliotecas Numpy, Pandas, Matplotlib, Scikit-learn e outras que achar necessárias para realizar as atividades\n"
   ]
  },
  {
   "cell_type": "markdown",
   "metadata": {
    "id": "Wmf7-aw15TUR"
   },
   "source": [
    "\n",
    "\n",
    "---\n",
    "\n"
   ]
  },
  {
   "cell_type": "markdown",
   "metadata": {
    "id": "teOR4SgJgCaZ"
   },
   "source": [
    "1.\tRealizar a análise exploratória dos dados e aplicar técnicas de pré-processamento caso sejam necessárias"
   ]
  },
  {
   "cell_type": "code",
   "execution_count": 99,
   "metadata": {
    "id": "4i1HxKe-3ZWI"
   },
   "outputs": [],
   "source": [
    "# --- Importar as bibliotecas\n",
    "import pandas as pd\n",
    "import numpy as np\n",
    "import matplotlib.pyplot as plt\n",
    "import seaborn as sns\n",
    "from sklearn.model_selection import cross_val_score\n",
    "from sklearn.metrics import classification_report\n",
    "from sklearn.naive_bayes import GaussianNB\n",
    "from sklearn.neighbors import KNeighborsClassifier\n",
    "from sklearn.model_selection import train_test_split\n",
    "from pycaret.classification import *"
   ]
  },
  {
   "cell_type": "code",
   "execution_count": 100,
   "metadata": {
    "id": "-k3GqNbZ3x7U",
    "scrolled": true
   },
   "outputs": [
    {
     "data": {
      "text/html": [
       "<div>\n",
       "<style scoped>\n",
       "    .dataframe tbody tr th:only-of-type {\n",
       "        vertical-align: middle;\n",
       "    }\n",
       "\n",
       "    .dataframe tbody tr th {\n",
       "        vertical-align: top;\n",
       "    }\n",
       "\n",
       "    .dataframe thead th {\n",
       "        text-align: right;\n",
       "    }\n",
       "</style>\n",
       "<table border=\"1\" class=\"dataframe\">\n",
       "  <thead>\n",
       "    <tr style=\"text-align: right;\">\n",
       "      <th></th>\n",
       "      <th>User ID</th>\n",
       "      <th>Gender</th>\n",
       "      <th>Age</th>\n",
       "      <th>EstimatedSalary</th>\n",
       "      <th>Purchased</th>\n",
       "    </tr>\n",
       "  </thead>\n",
       "  <tbody>\n",
       "    <tr>\n",
       "      <th>0</th>\n",
       "      <td>15624510</td>\n",
       "      <td>Male</td>\n",
       "      <td>19</td>\n",
       "      <td>19000</td>\n",
       "      <td>0</td>\n",
       "    </tr>\n",
       "    <tr>\n",
       "      <th>1</th>\n",
       "      <td>15810944</td>\n",
       "      <td>Male</td>\n",
       "      <td>35</td>\n",
       "      <td>20000</td>\n",
       "      <td>0</td>\n",
       "    </tr>\n",
       "    <tr>\n",
       "      <th>2</th>\n",
       "      <td>15668575</td>\n",
       "      <td>Female</td>\n",
       "      <td>26</td>\n",
       "      <td>43000</td>\n",
       "      <td>0</td>\n",
       "    </tr>\n",
       "    <tr>\n",
       "      <th>3</th>\n",
       "      <td>15603246</td>\n",
       "      <td>Female</td>\n",
       "      <td>27</td>\n",
       "      <td>57000</td>\n",
       "      <td>0</td>\n",
       "    </tr>\n",
       "    <tr>\n",
       "      <th>4</th>\n",
       "      <td>15804002</td>\n",
       "      <td>Male</td>\n",
       "      <td>19</td>\n",
       "      <td>76000</td>\n",
       "      <td>0</td>\n",
       "    </tr>\n",
       "  </tbody>\n",
       "</table>\n",
       "</div>"
      ],
      "text/plain": [
       "    User ID  Gender  Age  EstimatedSalary  Purchased\n",
       "0  15624510    Male   19            19000          0\n",
       "1  15810944    Male   35            20000          0\n",
       "2  15668575  Female   26            43000          0\n",
       "3  15603246  Female   27            57000          0\n",
       "4  15804002    Male   19            76000          0"
      ]
     },
     "execution_count": 100,
     "metadata": {},
     "output_type": "execute_result"
    }
   ],
   "source": [
    "# --- Importar o conjunto de dados\n",
    "df  =  pd.read_csv('Social_Network_Ads.csv')\n",
    "df.head()"
   ]
  },
  {
   "cell_type": "markdown",
   "metadata": {},
   "source": [
    "## Exploração dos Dados e Pré-Processamento"
   ]
  },
  {
   "cell_type": "code",
   "execution_count": 101,
   "metadata": {
    "scrolled": true
   },
   "outputs": [
    {
     "name": "stdout",
     "output_type": "stream",
     "text": [
      "<class 'pandas.core.frame.DataFrame'>\n",
      "RangeIndex: 400 entries, 0 to 399\n",
      "Data columns (total 5 columns):\n",
      " #   Column           Non-Null Count  Dtype \n",
      "---  ------           --------------  ----- \n",
      " 0   User ID          400 non-null    int64 \n",
      " 1   Gender           400 non-null    object\n",
      " 2   Age              400 non-null    int64 \n",
      " 3   EstimatedSalary  400 non-null    int64 \n",
      " 4   Purchased        400 non-null    int64 \n",
      "dtypes: int64(4), object(1)\n",
      "memory usage: 15.8+ KB\n"
     ]
    }
   ],
   "source": [
    "df.info()"
   ]
  },
  {
   "cell_type": "code",
   "execution_count": 102,
   "metadata": {},
   "outputs": [
    {
     "data": {
      "text/plain": [
       "False"
      ]
     },
     "execution_count": 102,
     "metadata": {},
     "output_type": "execute_result"
    }
   ],
   "source": [
    "df.isnull().values.any()"
   ]
  },
  {
   "cell_type": "code",
   "execution_count": 103,
   "metadata": {
    "scrolled": true
   },
   "outputs": [
    {
     "data": {
      "text/html": [
       "<div>\n",
       "<style scoped>\n",
       "    .dataframe tbody tr th:only-of-type {\n",
       "        vertical-align: middle;\n",
       "    }\n",
       "\n",
       "    .dataframe tbody tr th {\n",
       "        vertical-align: top;\n",
       "    }\n",
       "\n",
       "    .dataframe thead th {\n",
       "        text-align: right;\n",
       "    }\n",
       "</style>\n",
       "<table border=\"1\" class=\"dataframe\">\n",
       "  <thead>\n",
       "    <tr style=\"text-align: right;\">\n",
       "      <th></th>\n",
       "      <th>User ID</th>\n",
       "      <th>Age</th>\n",
       "      <th>EstimatedSalary</th>\n",
       "      <th>Purchased</th>\n",
       "    </tr>\n",
       "  </thead>\n",
       "  <tbody>\n",
       "    <tr>\n",
       "      <th>count</th>\n",
       "      <td>4.000000e+02</td>\n",
       "      <td>400.000000</td>\n",
       "      <td>400.000000</td>\n",
       "      <td>400.000000</td>\n",
       "    </tr>\n",
       "    <tr>\n",
       "      <th>mean</th>\n",
       "      <td>1.569154e+07</td>\n",
       "      <td>37.655000</td>\n",
       "      <td>69742.500000</td>\n",
       "      <td>0.357500</td>\n",
       "    </tr>\n",
       "    <tr>\n",
       "      <th>std</th>\n",
       "      <td>7.165832e+04</td>\n",
       "      <td>10.482877</td>\n",
       "      <td>34096.960282</td>\n",
       "      <td>0.479864</td>\n",
       "    </tr>\n",
       "    <tr>\n",
       "      <th>min</th>\n",
       "      <td>1.556669e+07</td>\n",
       "      <td>18.000000</td>\n",
       "      <td>15000.000000</td>\n",
       "      <td>0.000000</td>\n",
       "    </tr>\n",
       "    <tr>\n",
       "      <th>25%</th>\n",
       "      <td>1.562676e+07</td>\n",
       "      <td>29.750000</td>\n",
       "      <td>43000.000000</td>\n",
       "      <td>0.000000</td>\n",
       "    </tr>\n",
       "    <tr>\n",
       "      <th>50%</th>\n",
       "      <td>1.569434e+07</td>\n",
       "      <td>37.000000</td>\n",
       "      <td>70000.000000</td>\n",
       "      <td>0.000000</td>\n",
       "    </tr>\n",
       "    <tr>\n",
       "      <th>75%</th>\n",
       "      <td>1.575036e+07</td>\n",
       "      <td>46.000000</td>\n",
       "      <td>88000.000000</td>\n",
       "      <td>1.000000</td>\n",
       "    </tr>\n",
       "    <tr>\n",
       "      <th>max</th>\n",
       "      <td>1.581524e+07</td>\n",
       "      <td>60.000000</td>\n",
       "      <td>150000.000000</td>\n",
       "      <td>1.000000</td>\n",
       "    </tr>\n",
       "  </tbody>\n",
       "</table>\n",
       "</div>"
      ],
      "text/plain": [
       "            User ID         Age  EstimatedSalary   Purchased\n",
       "count  4.000000e+02  400.000000       400.000000  400.000000\n",
       "mean   1.569154e+07   37.655000     69742.500000    0.357500\n",
       "std    7.165832e+04   10.482877     34096.960282    0.479864\n",
       "min    1.556669e+07   18.000000     15000.000000    0.000000\n",
       "25%    1.562676e+07   29.750000     43000.000000    0.000000\n",
       "50%    1.569434e+07   37.000000     70000.000000    0.000000\n",
       "75%    1.575036e+07   46.000000     88000.000000    1.000000\n",
       "max    1.581524e+07   60.000000    150000.000000    1.000000"
      ]
     },
     "execution_count": 103,
     "metadata": {},
     "output_type": "execute_result"
    }
   ],
   "source": [
    "df.describe()"
   ]
  },
  {
   "cell_type": "code",
   "execution_count": 104,
   "metadata": {},
   "outputs": [
    {
     "name": "stdout",
     "output_type": "stream",
     "text": [
      "<class 'pandas.core.frame.DataFrame'>\n",
      "RangeIndex: 400 entries, 0 to 399\n",
      "Data columns (total 5 columns):\n",
      " #   Column           Non-Null Count  Dtype\n",
      "---  ------           --------------  -----\n",
      " 0   User ID          400 non-null    int64\n",
      " 1   Gender           400 non-null    int64\n",
      " 2   Age              400 non-null    int64\n",
      " 3   EstimatedSalary  400 non-null    int64\n",
      " 4   Purchased        400 non-null    int64\n",
      "dtypes: int64(5)\n",
      "memory usage: 15.8 KB\n"
     ]
    }
   ],
   "source": [
    "df.replace(to_replace = \"Male\",\n",
    "                 value =0, inplace = True)\n",
    "df.replace(to_replace=\"Female\", value=1,inplace=True)\n",
    "df.info()"
   ]
  },
  {
   "cell_type": "code",
   "execution_count": 105,
   "metadata": {},
   "outputs": [
    {
     "data": {
      "image/png": "[encoded data removed]",
      "text/plain": [
       "<Figure size 360x360 with 2 Axes>"
      ]
     },
     "metadata": {},
     "output_type": "display_data"
    }
   ],
   "source": [
    "plt.figure(figsize=(5, 5))\n",
    "sns.heatmap(df.corr(),   #.corr() traz a correlação de Pearson, mostrando um relacionamento linear entre as variáveis\n",
    "            annot = True,\n",
    "            fmt = '.2f',\n",
    "            cmap='Blues')\n",
    "plt.title('Correlação entre variáveis do dataset de Iris')\n",
    "plt.show()"
   ]
  },
  {
   "cell_type": "code",
   "execution_count": 106,
   "metadata": {
    "scrolled": true
   },
   "outputs": [
    {
     "data": {
      "text/html": [
       "<div>\n",
       "<style scoped>\n",
       "    .dataframe tbody tr th:only-of-type {\n",
       "        vertical-align: middle;\n",
       "    }\n",
       "\n",
       "    .dataframe tbody tr th {\n",
       "        vertical-align: top;\n",
       "    }\n",
       "\n",
       "    .dataframe thead th {\n",
       "        text-align: right;\n",
       "    }\n",
       "</style>\n",
       "<table border=\"1\" class=\"dataframe\">\n",
       "  <thead>\n",
       "    <tr style=\"text-align: right;\">\n",
       "      <th></th>\n",
       "      <th>Age</th>\n",
       "      <th>EstimatedSalary</th>\n",
       "      <th>Purchased</th>\n",
       "    </tr>\n",
       "  </thead>\n",
       "  <tbody>\n",
       "    <tr>\n",
       "      <th>0</th>\n",
       "      <td>19</td>\n",
       "      <td>19000</td>\n",
       "      <td>0</td>\n",
       "    </tr>\n",
       "    <tr>\n",
       "      <th>1</th>\n",
       "      <td>35</td>\n",
       "      <td>20000</td>\n",
       "      <td>0</td>\n",
       "    </tr>\n",
       "    <tr>\n",
       "      <th>2</th>\n",
       "      <td>26</td>\n",
       "      <td>43000</td>\n",
       "      <td>0</td>\n",
       "    </tr>\n",
       "    <tr>\n",
       "      <th>3</th>\n",
       "      <td>27</td>\n",
       "      <td>57000</td>\n",
       "      <td>0</td>\n",
       "    </tr>\n",
       "    <tr>\n",
       "      <th>4</th>\n",
       "      <td>19</td>\n",
       "      <td>76000</td>\n",
       "      <td>0</td>\n",
       "    </tr>\n",
       "  </tbody>\n",
       "</table>\n",
       "</div>"
      ],
      "text/plain": [
       "   Age  EstimatedSalary  Purchased\n",
       "0   19            19000          0\n",
       "1   35            20000          0\n",
       "2   26            43000          0\n",
       "3   27            57000          0\n",
       "4   19            76000          0"
      ]
     },
     "execution_count": 106,
     "metadata": {},
     "output_type": "execute_result"
    }
   ],
   "source": [
    "df.drop(['User ID','Gender'],axis=1,inplace=True)\n",
    "df.head()"
   ]
  },
  {
   "cell_type": "code",
   "execution_count": 107,
   "metadata": {
    "scrolled": true
   },
   "outputs": [
    {
     "data": {
      "text/plain": [
       "0      False\n",
       "1      False\n",
       "2      False\n",
       "3      False\n",
       "4      False\n",
       "       ...  \n",
       "395    False\n",
       "396    False\n",
       "397    False\n",
       "398    False\n",
       "399    False\n",
       "Length: 400, dtype: bool"
      ]
     },
     "execution_count": 107,
     "metadata": {},
     "output_type": "execute_result"
    }
   ],
   "source": [
    "df.duplicated()"
   ]
  },
  {
   "cell_type": "code",
   "execution_count": 108,
   "metadata": {},
   "outputs": [
    {
     "data": {
      "text/plain": [
       "<AxesSubplot:xlabel='EstimatedSalary', ylabel='Purchased'>"
      ]
     },
     "execution_count": 108,
     "metadata": {},
     "output_type": "execute_result"
    },
    {
     "data": {
      "image/png": "[encoded data removed]",
      "text/plain": [
       "<Figure size 504x1152 with 3 Axes>"
      ]
     },
     "metadata": {},
     "output_type": "display_data"
    }
   ],
   "source": [
    "fig, axes = plt.subplots(3, 1,figsize=(7,16))\n",
    "\n",
    "fig.suptitle('Busca por outliers no dataset',va=\"bottom\")\n",
    "fig.tight_layout(pad=2.0)\n",
    "\n",
    "sns.scatterplot(ax=axes[0],data=df, x=\"Age\",y='Purchased')\n",
    "sns.scatterplot(ax=axes[1],data=df, x=\"Age\",y='EstimatedSalary')\n",
    "sns.scatterplot(ax=axes[2],data=df, x=\"EstimatedSalary\",y='Purchased')"
   ]
  },
  {
   "cell_type": "markdown",
   "metadata": {
    "id": "DqfL1qQSgGUO"
   },
   "source": [
    "2.\tImplementar ao menos um modelo de aprendizado supervisionado "
   ]
  },
  {
   "cell_type": "markdown",
   "metadata": {},
   "source": [
    "## Criação de Modelos de Machine Learning e Análise dos Resultados iniciais"
   ]
  },
  {
   "cell_type": "code",
   "execution_count": 109,
   "metadata": {},
   "outputs": [],
   "source": [
    "model = GaussianNB()\n",
    "model2 = KNeighborsClassifier(n_neighbors=5)"
   ]
  },
  {
   "cell_type": "code",
   "execution_count": 110,
   "metadata": {},
   "outputs": [],
   "source": [
    "X = df.iloc[:,0:2]\n",
    "y = df['Purchased']\n",
    "X.head()\n",
    "\n",
    "X_train, X_test, y_train, y_test = train_test_split(X, y, test_size=0.3,random_state=42)"
   ]
  },
  {
   "cell_type": "code",
   "execution_count": 111,
   "metadata": {
    "scrolled": true
   },
   "outputs": [
    {
     "data": {
      "text/plain": [
       "0.925"
      ]
     },
     "execution_count": 111,
     "metadata": {},
     "output_type": "execute_result"
    }
   ],
   "source": [
    "model.fit(X_train, y_train)\n",
    "model.score(X_test, y_test)"
   ]
  },
  {
   "cell_type": "code",
   "execution_count": 112,
   "metadata": {
    "scrolled": true
   },
   "outputs": [
    {
     "data": {
      "text/plain": [
       "0.8166666666666667"
      ]
     },
     "execution_count": 112,
     "metadata": {},
     "output_type": "execute_result"
    }
   ],
   "source": [
    "model2.fit(X_train, y_train)\n",
    "model2.score(X_test, y_test)"
   ]
  },
  {
   "cell_type": "code",
   "execution_count": 113,
   "metadata": {},
   "outputs": [
    {
     "name": "stdout",
     "output_type": "stream",
     "text": [
      "Classificador: 1\n",
      "Valor Real: 1\n"
     ]
    }
   ],
   "source": [
    "y_pred = model.predict(X_test)\n",
    "print('Classificador:', y_pred[1])\n",
    "print('Valor Real:', y_test.iloc[1])"
   ]
  },
  {
   "cell_type": "code",
   "execution_count": 114,
   "metadata": {
    "scrolled": true
   },
   "outputs": [
    {
     "name": "stdout",
     "output_type": "stream",
     "text": [
      "              precision    recall  f1-score   support\n",
      "\n",
      "           0       0.90      0.99      0.94        73\n",
      "           1       0.97      0.83      0.90        47\n",
      "\n",
      "    accuracy                           0.93       120\n",
      "   macro avg       0.94      0.91      0.92       120\n",
      "weighted avg       0.93      0.93      0.92       120\n",
      "\n"
     ]
    }
   ],
   "source": [
    "y_pred = model.predict(X_test)\n",
    "print(classification_report(y_test, y_pred))"
   ]
  },
  {
   "cell_type": "markdown",
   "metadata": {},
   "source": [
    "## Uso experimental do Pycaret para comparar modelos existentes de forma automatizada e encontrar a melhor solução que se adequa ao problema"
   ]
  },
  {
   "cell_type": "code",
   "execution_count": 115,
   "metadata": {
    "scrolled": true
   },
   "outputs": [
    {
     "data": {
      "text/html": [
       "<style type=\"text/css\">\n",
       "#T_d6679_row44_col1 {\n",
       "  background-color: lightgreen;\n",
       "}\n",
       "</style>\n",
       "<table id=\"T_d6679_\">\n",
       "  <thead>\n",
       "    <tr>\n",
       "      <th class=\"blank level0\" >&nbsp;</th>\n",
       "      <th class=\"col_heading level0 col0\" >Description</th>\n",
       "      <th class=\"col_heading level0 col1\" >Value</th>\n",
       "    </tr>\n",
       "  </thead>\n",
       "  <tbody>\n",
       "    <tr>\n",
       "      <th id=\"T_d6679_level0_row0\" class=\"row_heading level0 row0\" >0</th>\n",
       "      <td id=\"T_d6679_row0_col0\" class=\"data row0 col0\" >session_id</td>\n",
       "      <td id=\"T_d6679_row0_col1\" class=\"data row0 col1\" >5547</td>\n",
       "    </tr>\n",
       "    <tr>\n",
       "      <th id=\"T_d6679_level0_row1\" class=\"row_heading level0 row1\" >1</th>\n",
       "      <td id=\"T_d6679_row1_col0\" class=\"data row1 col0\" >Target</td>\n",
       "      <td id=\"T_d6679_row1_col1\" class=\"data row1 col1\" >Purchased</td>\n",
       "    </tr>\n",
       "    <tr>\n",
       "      <th id=\"T_d6679_level0_row2\" class=\"row_heading level0 row2\" >2</th>\n",
       "      <td id=\"T_d6679_row2_col0\" class=\"data row2 col0\" >Target Type</td>\n",
       "      <td id=\"T_d6679_row2_col1\" class=\"data row2 col1\" >Binary</td>\n",
       "    </tr>\n",
       "    <tr>\n",
       "      <th id=\"T_d6679_level0_row3\" class=\"row_heading level0 row3\" >3</th>\n",
       "      <td id=\"T_d6679_row3_col0\" class=\"data row3 col0\" >Label Encoded</td>\n",
       "      <td id=\"T_d6679_row3_col1\" class=\"data row3 col1\" >None</td>\n",
       "    </tr>\n",
       "    <tr>\n",
       "      <th id=\"T_d6679_level0_row4\" class=\"row_heading level0 row4\" >4</th>\n",
       "      <td id=\"T_d6679_row4_col0\" class=\"data row4 col0\" >Original Data</td>\n",
       "      <td id=\"T_d6679_row4_col1\" class=\"data row4 col1\" >(400, 3)</td>\n",
       "    </tr>\n",
       "    <tr>\n",
       "      <th id=\"T_d6679_level0_row5\" class=\"row_heading level0 row5\" >5</th>\n",
       "      <td id=\"T_d6679_row5_col0\" class=\"data row5 col0\" >Missing Values</td>\n",
       "      <td id=\"T_d6679_row5_col1\" class=\"data row5 col1\" >False</td>\n",
       "    </tr>\n",
       "    <tr>\n",
       "      <th id=\"T_d6679_level0_row6\" class=\"row_heading level0 row6\" >6</th>\n",
       "      <td id=\"T_d6679_row6_col0\" class=\"data row6 col0\" >Numeric Features</td>\n",
       "      <td id=\"T_d6679_row6_col1\" class=\"data row6 col1\" >2</td>\n",
       "    </tr>\n",
       "    <tr>\n",
       "      <th id=\"T_d6679_level0_row7\" class=\"row_heading level0 row7\" >7</th>\n",
       "      <td id=\"T_d6679_row7_col0\" class=\"data row7 col0\" >Categorical Features</td>\n",
       "      <td id=\"T_d6679_row7_col1\" class=\"data row7 col1\" >0</td>\n",
       "    </tr>\n",
       "    <tr>\n",
       "      <th id=\"T_d6679_level0_row8\" class=\"row_heading level0 row8\" >8</th>\n",
       "      <td id=\"T_d6679_row8_col0\" class=\"data row8 col0\" >Ordinal Features</td>\n",
       "      <td id=\"T_d6679_row8_col1\" class=\"data row8 col1\" >False</td>\n",
       "    </tr>\n",
       "    <tr>\n",
       "      <th id=\"T_d6679_level0_row9\" class=\"row_heading level0 row9\" >9</th>\n",
       "      <td id=\"T_d6679_row9_col0\" class=\"data row9 col0\" >High Cardinality Features</td>\n",
       "      <td id=\"T_d6679_row9_col1\" class=\"data row9 col1\" >False</td>\n",
       "    </tr>\n",
       "    <tr>\n",
       "      <th id=\"T_d6679_level0_row10\" class=\"row_heading level0 row10\" >10</th>\n",
       "      <td id=\"T_d6679_row10_col0\" class=\"data row10 col0\" >High Cardinality Method</td>\n",
       "      <td id=\"T_d6679_row10_col1\" class=\"data row10 col1\" >None</td>\n",
       "    </tr>\n",
       "    <tr>\n",
       "      <th id=\"T_d6679_level0_row11\" class=\"row_heading level0 row11\" >11</th>\n",
       "      <td id=\"T_d6679_row11_col0\" class=\"data row11 col0\" >Transformed Train Set</td>\n",
       "      <td id=\"T_d6679_row11_col1\" class=\"data row11 col1\" >(279, 2)</td>\n",
       "    </tr>\n",
       "    <tr>\n",
       "      <th id=\"T_d6679_level0_row12\" class=\"row_heading level0 row12\" >12</th>\n",
       "      <td id=\"T_d6679_row12_col0\" class=\"data row12 col0\" >Transformed Test Set</td>\n",
       "      <td id=\"T_d6679_row12_col1\" class=\"data row12 col1\" >(121, 2)</td>\n",
       "    </tr>\n",
       "    <tr>\n",
       "      <th id=\"T_d6679_level0_row13\" class=\"row_heading level0 row13\" >13</th>\n",
       "      <td id=\"T_d6679_row13_col0\" class=\"data row13 col0\" >Shuffle Train-Test</td>\n",
       "      <td id=\"T_d6679_row13_col1\" class=\"data row13 col1\" >True</td>\n",
       "    </tr>\n",
       "    <tr>\n",
       "      <th id=\"T_d6679_level0_row14\" class=\"row_heading level0 row14\" >14</th>\n",
       "      <td id=\"T_d6679_row14_col0\" class=\"data row14 col0\" >Stratify Train-Test</td>\n",
       "      <td id=\"T_d6679_row14_col1\" class=\"data row14 col1\" >False</td>\n",
       "    </tr>\n",
       "    <tr>\n",
       "      <th id=\"T_d6679_level0_row15\" class=\"row_heading level0 row15\" >15</th>\n",
       "      <td id=\"T_d6679_row15_col0\" class=\"data row15 col0\" >Fold Generator</td>\n",
       "      <td id=\"T_d6679_row15_col1\" class=\"data row15 col1\" >StratifiedKFold</td>\n",
       "    </tr>\n",
       "    <tr>\n",
       "      <th id=\"T_d6679_level0_row16\" class=\"row_heading level0 row16\" >16</th>\n",
       "      <td id=\"T_d6679_row16_col0\" class=\"data row16 col0\" >Fold Number</td>\n",
       "      <td id=\"T_d6679_row16_col1\" class=\"data row16 col1\" >10</td>\n",
       "    </tr>\n",
       "    <tr>\n",
       "      <th id=\"T_d6679_level0_row17\" class=\"row_heading level0 row17\" >17</th>\n",
       "      <td id=\"T_d6679_row17_col0\" class=\"data row17 col0\" >CPU Jobs</td>\n",
       "      <td id=\"T_d6679_row17_col1\" class=\"data row17 col1\" >-1</td>\n",
       "    </tr>\n",
       "    <tr>\n",
       "      <th id=\"T_d6679_level0_row18\" class=\"row_heading level0 row18\" >18</th>\n",
       "      <td id=\"T_d6679_row18_col0\" class=\"data row18 col0\" >Use GPU</td>\n",
       "      <td id=\"T_d6679_row18_col1\" class=\"data row18 col1\" >False</td>\n",
       "    </tr>\n",
       "    <tr>\n",
       "      <th id=\"T_d6679_level0_row19\" class=\"row_heading level0 row19\" >19</th>\n",
       "      <td id=\"T_d6679_row19_col0\" class=\"data row19 col0\" >Log Experiment</td>\n",
       "      <td id=\"T_d6679_row19_col1\" class=\"data row19 col1\" >False</td>\n",
       "    </tr>\n",
       "    <tr>\n",
       "      <th id=\"T_d6679_level0_row20\" class=\"row_heading level0 row20\" >20</th>\n",
       "      <td id=\"T_d6679_row20_col0\" class=\"data row20 col0\" >Experiment Name</td>\n",
       "      <td id=\"T_d6679_row20_col1\" class=\"data row20 col1\" >clf-default-name</td>\n",
       "    </tr>\n",
       "    <tr>\n",
       "      <th id=\"T_d6679_level0_row21\" class=\"row_heading level0 row21\" >21</th>\n",
       "      <td id=\"T_d6679_row21_col0\" class=\"data row21 col0\" >USI</td>\n",
       "      <td id=\"T_d6679_row21_col1\" class=\"data row21 col1\" >8cb1</td>\n",
       "    </tr>\n",
       "    <tr>\n",
       "      <th id=\"T_d6679_level0_row22\" class=\"row_heading level0 row22\" >22</th>\n",
       "      <td id=\"T_d6679_row22_col0\" class=\"data row22 col0\" >Imputation Type</td>\n",
       "      <td id=\"T_d6679_row22_col1\" class=\"data row22 col1\" >simple</td>\n",
       "    </tr>\n",
       "    <tr>\n",
       "      <th id=\"T_d6679_level0_row23\" class=\"row_heading level0 row23\" >23</th>\n",
       "      <td id=\"T_d6679_row23_col0\" class=\"data row23 col0\" >Iterative Imputation Iteration</td>\n",
       "      <td id=\"T_d6679_row23_col1\" class=\"data row23 col1\" >None</td>\n",
       "    </tr>\n",
       "    <tr>\n",
       "      <th id=\"T_d6679_level0_row24\" class=\"row_heading level0 row24\" >24</th>\n",
       "      <td id=\"T_d6679_row24_col0\" class=\"data row24 col0\" >Numeric Imputer</td>\n",
       "      <td id=\"T_d6679_row24_col1\" class=\"data row24 col1\" >mean</td>\n",
       "    </tr>\n",
       "    <tr>\n",
       "      <th id=\"T_d6679_level0_row25\" class=\"row_heading level0 row25\" >25</th>\n",
       "      <td id=\"T_d6679_row25_col0\" class=\"data row25 col0\" >Iterative Imputation Numeric Model</td>\n",
       "      <td id=\"T_d6679_row25_col1\" class=\"data row25 col1\" >None</td>\n",
       "    </tr>\n",
       "    <tr>\n",
       "      <th id=\"T_d6679_level0_row26\" class=\"row_heading level0 row26\" >26</th>\n",
       "      <td id=\"T_d6679_row26_col0\" class=\"data row26 col0\" >Categorical Imputer</td>\n",
       "      <td id=\"T_d6679_row26_col1\" class=\"data row26 col1\" >constant</td>\n",
       "    </tr>\n",
       "    <tr>\n",
       "      <th id=\"T_d6679_level0_row27\" class=\"row_heading level0 row27\" >27</th>\n",
       "      <td id=\"T_d6679_row27_col0\" class=\"data row27 col0\" >Iterative Imputation Categorical Model</td>\n",
       "      <td id=\"T_d6679_row27_col1\" class=\"data row27 col1\" >None</td>\n",
       "    </tr>\n",
       "    <tr>\n",
       "      <th id=\"T_d6679_level0_row28\" class=\"row_heading level0 row28\" >28</th>\n",
       "      <td id=\"T_d6679_row28_col0\" class=\"data row28 col0\" >Unknown Categoricals Handling</td>\n",
       "      <td id=\"T_d6679_row28_col1\" class=\"data row28 col1\" >least_frequent</td>\n",
       "    </tr>\n",
       "    <tr>\n",
       "      <th id=\"T_d6679_level0_row29\" class=\"row_heading level0 row29\" >29</th>\n",
       "      <td id=\"T_d6679_row29_col0\" class=\"data row29 col0\" >Normalize</td>\n",
       "      <td id=\"T_d6679_row29_col1\" class=\"data row29 col1\" >False</td>\n",
       "    </tr>\n",
       "    <tr>\n",
       "      <th id=\"T_d6679_level0_row30\" class=\"row_heading level0 row30\" >30</th>\n",
       "      <td id=\"T_d6679_row30_col0\" class=\"data row30 col0\" >Normalize Method</td>\n",
       "      <td id=\"T_d6679_row30_col1\" class=\"data row30 col1\" >None</td>\n",
       "    </tr>\n",
       "    <tr>\n",
       "      <th id=\"T_d6679_level0_row31\" class=\"row_heading level0 row31\" >31</th>\n",
       "      <td id=\"T_d6679_row31_col0\" class=\"data row31 col0\" >Transformation</td>\n",
       "      <td id=\"T_d6679_row31_col1\" class=\"data row31 col1\" >False</td>\n",
       "    </tr>\n",
       "    <tr>\n",
       "      <th id=\"T_d6679_level0_row32\" class=\"row_heading level0 row32\" >32</th>\n",
       "      <td id=\"T_d6679_row32_col0\" class=\"data row32 col0\" >Transformation Method</td>\n",
       "      <td id=\"T_d6679_row32_col1\" class=\"data row32 col1\" >None</td>\n",
       "    </tr>\n",
       "    <tr>\n",
       "      <th id=\"T_d6679_level0_row33\" class=\"row_heading level0 row33\" >33</th>\n",
       "      <td id=\"T_d6679_row33_col0\" class=\"data row33 col0\" >PCA</td>\n",
       "      <td id=\"T_d6679_row33_col1\" class=\"data row33 col1\" >False</td>\n",
       "    </tr>\n",
       "    <tr>\n",
       "      <th id=\"T_d6679_level0_row34\" class=\"row_heading level0 row34\" >34</th>\n",
       "      <td id=\"T_d6679_row34_col0\" class=\"data row34 col0\" >PCA Method</td>\n",
       "      <td id=\"T_d6679_row34_col1\" class=\"data row34 col1\" >None</td>\n",
       "    </tr>\n",
       "    <tr>\n",
       "      <th id=\"T_d6679_level0_row35\" class=\"row_heading level0 row35\" >35</th>\n",
       "      <td id=\"T_d6679_row35_col0\" class=\"data row35 col0\" >PCA Components</td>\n",
       "      <td id=\"T_d6679_row35_col1\" class=\"data row35 col1\" >None</td>\n",
       "    </tr>\n",
       "    <tr>\n",
       "      <th id=\"T_d6679_level0_row36\" class=\"row_heading level0 row36\" >36</th>\n",
       "      <td id=\"T_d6679_row36_col0\" class=\"data row36 col0\" >Ignore Low Variance</td>\n",
       "      <td id=\"T_d6679_row36_col1\" class=\"data row36 col1\" >False</td>\n",
       "    </tr>\n",
       "    <tr>\n",
       "      <th id=\"T_d6679_level0_row37\" class=\"row_heading level0 row37\" >37</th>\n",
       "      <td id=\"T_d6679_row37_col0\" class=\"data row37 col0\" >Combine Rare Levels</td>\n",
       "      <td id=\"T_d6679_row37_col1\" class=\"data row37 col1\" >False</td>\n",
       "    </tr>\n",
       "    <tr>\n",
       "      <th id=\"T_d6679_level0_row38\" class=\"row_heading level0 row38\" >38</th>\n",
       "      <td id=\"T_d6679_row38_col0\" class=\"data row38 col0\" >Rare Level Threshold</td>\n",
       "      <td id=\"T_d6679_row38_col1\" class=\"data row38 col1\" >None</td>\n",
       "    </tr>\n",
       "    <tr>\n",
       "      <th id=\"T_d6679_level0_row39\" class=\"row_heading level0 row39\" >39</th>\n",
       "      <td id=\"T_d6679_row39_col0\" class=\"data row39 col0\" >Numeric Binning</td>\n",
       "      <td id=\"T_d6679_row39_col1\" class=\"data row39 col1\" >False</td>\n",
       "    </tr>\n",
       "    <tr>\n",
       "      <th id=\"T_d6679_level0_row40\" class=\"row_heading level0 row40\" >40</th>\n",
       "      <td id=\"T_d6679_row40_col0\" class=\"data row40 col0\" >Remove Outliers</td>\n",
       "      <td id=\"T_d6679_row40_col1\" class=\"data row40 col1\" >False</td>\n",
       "    </tr>\n",
       "    <tr>\n",
       "      <th id=\"T_d6679_level0_row41\" class=\"row_heading level0 row41\" >41</th>\n",
       "      <td id=\"T_d6679_row41_col0\" class=\"data row41 col0\" >Outliers Threshold</td>\n",
       "      <td id=\"T_d6679_row41_col1\" class=\"data row41 col1\" >None</td>\n",
       "    </tr>\n",
       "    <tr>\n",
       "      <th id=\"T_d6679_level0_row42\" class=\"row_heading level0 row42\" >42</th>\n",
       "      <td id=\"T_d6679_row42_col0\" class=\"data row42 col0\" >Remove Multicollinearity</td>\n",
       "      <td id=\"T_d6679_row42_col1\" class=\"data row42 col1\" >False</td>\n",
       "    </tr>\n",
       "    <tr>\n",
       "      <th id=\"T_d6679_level0_row43\" class=\"row_heading level0 row43\" >43</th>\n",
       "      <td id=\"T_d6679_row43_col0\" class=\"data row43 col0\" >Multicollinearity Threshold</td>\n",
       "      <td id=\"T_d6679_row43_col1\" class=\"data row43 col1\" >None</td>\n",
       "    </tr>\n",
       "    <tr>\n",
       "      <th id=\"T_d6679_level0_row44\" class=\"row_heading level0 row44\" >44</th>\n",
       "      <td id=\"T_d6679_row44_col0\" class=\"data row44 col0\" >Remove Perfect Collinearity</td>\n",
       "      <td id=\"T_d6679_row44_col1\" class=\"data row44 col1\" >True</td>\n",
       "    </tr>\n",
       "    <tr>\n",
       "      <th id=\"T_d6679_level0_row45\" class=\"row_heading level0 row45\" >45</th>\n",
       "      <td id=\"T_d6679_row45_col0\" class=\"data row45 col0\" >Clustering</td>\n",
       "      <td id=\"T_d6679_row45_col1\" class=\"data row45 col1\" >False</td>\n",
       "    </tr>\n",
       "    <tr>\n",
       "      <th id=\"T_d6679_level0_row46\" class=\"row_heading level0 row46\" >46</th>\n",
       "      <td id=\"T_d6679_row46_col0\" class=\"data row46 col0\" >Clustering Iteration</td>\n",
       "      <td id=\"T_d6679_row46_col1\" class=\"data row46 col1\" >None</td>\n",
       "    </tr>\n",
       "    <tr>\n",
       "      <th id=\"T_d6679_level0_row47\" class=\"row_heading level0 row47\" >47</th>\n",
       "      <td id=\"T_d6679_row47_col0\" class=\"data row47 col0\" >Polynomial Features</td>\n",
       "      <td id=\"T_d6679_row47_col1\" class=\"data row47 col1\" >False</td>\n",
       "    </tr>\n",
       "    <tr>\n",
       "      <th id=\"T_d6679_level0_row48\" class=\"row_heading level0 row48\" >48</th>\n",
       "      <td id=\"T_d6679_row48_col0\" class=\"data row48 col0\" >Polynomial Degree</td>\n",
       "      <td id=\"T_d6679_row48_col1\" class=\"data row48 col1\" >None</td>\n",
       "    </tr>\n",
       "    <tr>\n",
       "      <th id=\"T_d6679_level0_row49\" class=\"row_heading level0 row49\" >49</th>\n",
       "      <td id=\"T_d6679_row49_col0\" class=\"data row49 col0\" >Trignometry Features</td>\n",
       "      <td id=\"T_d6679_row49_col1\" class=\"data row49 col1\" >False</td>\n",
       "    </tr>\n",
       "    <tr>\n",
       "      <th id=\"T_d6679_level0_row50\" class=\"row_heading level0 row50\" >50</th>\n",
       "      <td id=\"T_d6679_row50_col0\" class=\"data row50 col0\" >Polynomial Threshold</td>\n",
       "      <td id=\"T_d6679_row50_col1\" class=\"data row50 col1\" >None</td>\n",
       "    </tr>\n",
       "    <tr>\n",
       "      <th id=\"T_d6679_level0_row51\" class=\"row_heading level0 row51\" >51</th>\n",
       "      <td id=\"T_d6679_row51_col0\" class=\"data row51 col0\" >Group Features</td>\n",
       "      <td id=\"T_d6679_row51_col1\" class=\"data row51 col1\" >False</td>\n",
       "    </tr>\n",
       "    <tr>\n",
       "      <th id=\"T_d6679_level0_row52\" class=\"row_heading level0 row52\" >52</th>\n",
       "      <td id=\"T_d6679_row52_col0\" class=\"data row52 col0\" >Feature Selection</td>\n",
       "      <td id=\"T_d6679_row52_col1\" class=\"data row52 col1\" >False</td>\n",
       "    </tr>\n",
       "    <tr>\n",
       "      <th id=\"T_d6679_level0_row53\" class=\"row_heading level0 row53\" >53</th>\n",
       "      <td id=\"T_d6679_row53_col0\" class=\"data row53 col0\" >Feature Selection Method</td>\n",
       "      <td id=\"T_d6679_row53_col1\" class=\"data row53 col1\" >classic</td>\n",
       "    </tr>\n",
       "    <tr>\n",
       "      <th id=\"T_d6679_level0_row54\" class=\"row_heading level0 row54\" >54</th>\n",
       "      <td id=\"T_d6679_row54_col0\" class=\"data row54 col0\" >Features Selection Threshold</td>\n",
       "      <td id=\"T_d6679_row54_col1\" class=\"data row54 col1\" >None</td>\n",
       "    </tr>\n",
       "    <tr>\n",
       "      <th id=\"T_d6679_level0_row55\" class=\"row_heading level0 row55\" >55</th>\n",
       "      <td id=\"T_d6679_row55_col0\" class=\"data row55 col0\" >Feature Interaction</td>\n",
       "      <td id=\"T_d6679_row55_col1\" class=\"data row55 col1\" >False</td>\n",
       "    </tr>\n",
       "    <tr>\n",
       "      <th id=\"T_d6679_level0_row56\" class=\"row_heading level0 row56\" >56</th>\n",
       "      <td id=\"T_d6679_row56_col0\" class=\"data row56 col0\" >Feature Ratio</td>\n",
       "      <td id=\"T_d6679_row56_col1\" class=\"data row56 col1\" >False</td>\n",
       "    </tr>\n",
       "    <tr>\n",
       "      <th id=\"T_d6679_level0_row57\" class=\"row_heading level0 row57\" >57</th>\n",
       "      <td id=\"T_d6679_row57_col0\" class=\"data row57 col0\" >Interaction Threshold</td>\n",
       "      <td id=\"T_d6679_row57_col1\" class=\"data row57 col1\" >None</td>\n",
       "    </tr>\n",
       "    <tr>\n",
       "      <th id=\"T_d6679_level0_row58\" class=\"row_heading level0 row58\" >58</th>\n",
       "      <td id=\"T_d6679_row58_col0\" class=\"data row58 col0\" >Fix Imbalance</td>\n",
       "      <td id=\"T_d6679_row58_col1\" class=\"data row58 col1\" >False</td>\n",
       "    </tr>\n",
       "    <tr>\n",
       "      <th id=\"T_d6679_level0_row59\" class=\"row_heading level0 row59\" >59</th>\n",
       "      <td id=\"T_d6679_row59_col0\" class=\"data row59 col0\" >Fix Imbalance Method</td>\n",
       "      <td id=\"T_d6679_row59_col1\" class=\"data row59 col1\" >SMOTE</td>\n",
       "    </tr>\n",
       "  </tbody>\n",
       "</table>\n"
      ],
      "text/plain": [
       "<pandas.io.formats.style.Styler at 0x182061ee8b0>"
      ]
     },
     "metadata": {},
     "output_type": "display_data"
    }
   ],
   "source": [
    "s = setup(df, target = 'Purchased')"
   ]
  },
  {
   "cell_type": "code",
   "execution_count": 116,
   "metadata": {
    "scrolled": true
   },
   "outputs": [
    {
     "data": {
      "text/html": [
       "<style type=\"text/css\">\n",
       "#T_a37e1_ th {\n",
       "  text-align: left;\n",
       "}\n",
       "#T_a37e1_row0_col0, #T_a37e1_row0_col4, #T_a37e1_row1_col0, #T_a37e1_row1_col1, #T_a37e1_row1_col2, #T_a37e1_row1_col3, #T_a37e1_row1_col4, #T_a37e1_row1_col5, #T_a37e1_row1_col6, #T_a37e1_row1_col7, #T_a37e1_row2_col0, #T_a37e1_row2_col1, #T_a37e1_row2_col2, #T_a37e1_row2_col3, #T_a37e1_row2_col4, #T_a37e1_row2_col5, #T_a37e1_row2_col6, #T_a37e1_row2_col7, #T_a37e1_row3_col0, #T_a37e1_row3_col1, #T_a37e1_row3_col2, #T_a37e1_row3_col3, #T_a37e1_row3_col4, #T_a37e1_row3_col5, #T_a37e1_row3_col6, #T_a37e1_row3_col7, #T_a37e1_row4_col0, #T_a37e1_row4_col1, #T_a37e1_row4_col2, #T_a37e1_row4_col3, #T_a37e1_row4_col5, #T_a37e1_row4_col6, #T_a37e1_row4_col7, #T_a37e1_row5_col0, #T_a37e1_row5_col1, #T_a37e1_row5_col2, #T_a37e1_row5_col3, #T_a37e1_row5_col4, #T_a37e1_row5_col5, #T_a37e1_row5_col6, #T_a37e1_row5_col7, #T_a37e1_row6_col0, #T_a37e1_row6_col1, #T_a37e1_row6_col2, #T_a37e1_row6_col3, #T_a37e1_row6_col4, #T_a37e1_row6_col5, #T_a37e1_row6_col6, #T_a37e1_row6_col7, #T_a37e1_row7_col0, #T_a37e1_row7_col1, #T_a37e1_row7_col2, #T_a37e1_row7_col3, #T_a37e1_row7_col4, #T_a37e1_row7_col5, #T_a37e1_row7_col6, #T_a37e1_row7_col7, #T_a37e1_row8_col0, #T_a37e1_row8_col1, #T_a37e1_row8_col2, #T_a37e1_row8_col3, #T_a37e1_row8_col4, #T_a37e1_row8_col5, #T_a37e1_row8_col6, #T_a37e1_row8_col7, #T_a37e1_row9_col0, #T_a37e1_row9_col1, #T_a37e1_row9_col2, #T_a37e1_row9_col3, #T_a37e1_row9_col4, #T_a37e1_row9_col5, #T_a37e1_row9_col6, #T_a37e1_row9_col7, #T_a37e1_row10_col0, #T_a37e1_row10_col1, #T_a37e1_row10_col2, #T_a37e1_row10_col3, #T_a37e1_row10_col4, #T_a37e1_row10_col5, #T_a37e1_row10_col6, #T_a37e1_row10_col7, #T_a37e1_row11_col0, #T_a37e1_row11_col1, #T_a37e1_row11_col2, #T_a37e1_row11_col3, #T_a37e1_row11_col4, #T_a37e1_row11_col5, #T_a37e1_row11_col6, #T_a37e1_row11_col7, #T_a37e1_row12_col0, #T_a37e1_row12_col1, #T_a37e1_row12_col2, #T_a37e1_row12_col3, #T_a37e1_row12_col4, #T_a37e1_row12_col5, #T_a37e1_row12_col6, #T_a37e1_row12_col7, #T_a37e1_row13_col0, #T_a37e1_row13_col1, #T_a37e1_row13_col2, #T_a37e1_row13_col3, #T_a37e1_row13_col4, #T_a37e1_row13_col5, #T_a37e1_row13_col6, #T_a37e1_row13_col7 {\n",
       "  text-align: left;\n",
       "}\n",
       "#T_a37e1_row0_col1, #T_a37e1_row0_col2, #T_a37e1_row0_col3, #T_a37e1_row0_col5, #T_a37e1_row0_col6, #T_a37e1_row0_col7, #T_a37e1_row4_col4 {\n",
       "  text-align: left;\n",
       "  background-color: yellow;\n",
       "}\n",
       "#T_a37e1_row0_col8, #T_a37e1_row1_col8, #T_a37e1_row2_col8, #T_a37e1_row3_col8, #T_a37e1_row4_col8, #T_a37e1_row5_col8, #T_a37e1_row6_col8, #T_a37e1_row7_col8, #T_a37e1_row8_col8, #T_a37e1_row10_col8, #T_a37e1_row11_col8, #T_a37e1_row12_col8, #T_a37e1_row13_col8 {\n",
       "  text-align: left;\n",
       "  background-color: lightgrey;\n",
       "}\n",
       "#T_a37e1_row9_col8 {\n",
       "  text-align: left;\n",
       "  background-color: yellow;\n",
       "  background-color: lightgrey;\n",
       "}\n",
       "</style>\n",
       "<table id=\"T_a37e1_\">\n",
       "  <thead>\n",
       "    <tr>\n",
       "      <th class=\"blank level0\" >&nbsp;</th>\n",
       "      <th class=\"col_heading level0 col0\" >Model</th>\n",
       "      <th class=\"col_heading level0 col1\" >Accuracy</th>\n",
       "      <th class=\"col_heading level0 col2\" >AUC</th>\n",
       "      <th class=\"col_heading level0 col3\" >Recall</th>\n",
       "      <th class=\"col_heading level0 col4\" >Prec.</th>\n",
       "      <th class=\"col_heading level0 col5\" >F1</th>\n",
       "      <th class=\"col_heading level0 col6\" >Kappa</th>\n",
       "      <th class=\"col_heading level0 col7\" >MCC</th>\n",
       "      <th class=\"col_heading level0 col8\" >TT (Sec)</th>\n",
       "    </tr>\n",
       "  </thead>\n",
       "  <tbody>\n",
       "    <tr>\n",
       "      <th id=\"T_a37e1_level0_row0\" class=\"row_heading level0 row0\" >qda</th>\n",
       "      <td id=\"T_a37e1_row0_col0\" class=\"data row0 col0\" >Quadratic Discriminant Analysis</td>\n",
       "      <td id=\"T_a37e1_row0_col1\" class=\"data row0 col1\" >0.9102</td>\n",
       "      <td id=\"T_a37e1_row0_col2\" class=\"data row0 col2\" >0.9706</td>\n",
       "      <td id=\"T_a37e1_row0_col3\" class=\"data row0 col3\" >0.8878</td>\n",
       "      <td id=\"T_a37e1_row0_col4\" class=\"data row0 col4\" >0.8726</td>\n",
       "      <td id=\"T_a37e1_row0_col5\" class=\"data row0 col5\" >0.8769</td>\n",
       "      <td id=\"T_a37e1_row0_col6\" class=\"data row0 col6\" >0.8066</td>\n",
       "      <td id=\"T_a37e1_row0_col7\" class=\"data row0 col7\" >0.8103</td>\n",
       "      <td id=\"T_a37e1_row0_col8\" class=\"data row0 col8\" >0.0040</td>\n",
       "    </tr>\n",
       "    <tr>\n",
       "      <th id=\"T_a37e1_level0_row1\" class=\"row_heading level0 row1\" >gbc</th>\n",
       "      <td id=\"T_a37e1_row1_col0\" class=\"data row1 col0\" >Gradient Boosting Classifier</td>\n",
       "      <td id=\"T_a37e1_row1_col1\" class=\"data row1 col1\" >0.9029</td>\n",
       "      <td id=\"T_a37e1_row1_col2\" class=\"data row1 col2\" >0.9566</td>\n",
       "      <td id=\"T_a37e1_row1_col3\" class=\"data row1 col3\" >0.8567</td>\n",
       "      <td id=\"T_a37e1_row1_col4\" class=\"data row1 col4\" >0.8794</td>\n",
       "      <td id=\"T_a37e1_row1_col5\" class=\"data row1 col5\" >0.8626</td>\n",
       "      <td id=\"T_a37e1_row1_col6\" class=\"data row1 col6\" >0.7880</td>\n",
       "      <td id=\"T_a37e1_row1_col7\" class=\"data row1 col7\" >0.7945</td>\n",
       "      <td id=\"T_a37e1_row1_col8\" class=\"data row1 col8\" >0.0120</td>\n",
       "    </tr>\n",
       "    <tr>\n",
       "      <th id=\"T_a37e1_level0_row2\" class=\"row_heading level0 row2\" >lightgbm</th>\n",
       "      <td id=\"T_a37e1_row2_col0\" class=\"data row2 col0\" >Light Gradient Boosting Machine</td>\n",
       "      <td id=\"T_a37e1_row2_col1\" class=\"data row2 col1\" >0.9028</td>\n",
       "      <td id=\"T_a37e1_row2_col2\" class=\"data row2 col2\" >0.9632</td>\n",
       "      <td id=\"T_a37e1_row2_col3\" class=\"data row2 col3\" >0.8556</td>\n",
       "      <td id=\"T_a37e1_row2_col4\" class=\"data row2 col4\" >0.8774</td>\n",
       "      <td id=\"T_a37e1_row2_col5\" class=\"data row2 col5\" >0.8596</td>\n",
       "      <td id=\"T_a37e1_row2_col6\" class=\"data row2 col6\" >0.7858</td>\n",
       "      <td id=\"T_a37e1_row2_col7\" class=\"data row2 col7\" >0.7935</td>\n",
       "      <td id=\"T_a37e1_row2_col8\" class=\"data row2 col8\" >0.0080</td>\n",
       "    </tr>\n",
       "    <tr>\n",
       "      <th id=\"T_a37e1_level0_row3\" class=\"row_heading level0 row3\" >nb</th>\n",
       "      <td id=\"T_a37e1_row3_col0\" class=\"data row3 col0\" >Naive Bayes</td>\n",
       "      <td id=\"T_a37e1_row3_col1\" class=\"data row3 col1\" >0.8960</td>\n",
       "      <td id=\"T_a37e1_row3_col2\" class=\"data row3 col2\" >0.9606</td>\n",
       "      <td id=\"T_a37e1_row3_col3\" class=\"data row3 col3\" >0.8289</td>\n",
       "      <td id=\"T_a37e1_row3_col4\" class=\"data row3 col4\" >0.8818</td>\n",
       "      <td id=\"T_a37e1_row3_col5\" class=\"data row3 col5\" >0.8480</td>\n",
       "      <td id=\"T_a37e1_row3_col6\" class=\"data row3 col6\" >0.7698</td>\n",
       "      <td id=\"T_a37e1_row3_col7\" class=\"data row3 col7\" >0.7770</td>\n",
       "      <td id=\"T_a37e1_row3_col8\" class=\"data row3 col8\" >0.0030</td>\n",
       "    </tr>\n",
       "    <tr>\n",
       "      <th id=\"T_a37e1_level0_row4\" class=\"row_heading level0 row4\" >ada</th>\n",
       "      <td id=\"T_a37e1_row4_col0\" class=\"data row4 col0\" >Ada Boost Classifier</td>\n",
       "      <td id=\"T_a37e1_row4_col1\" class=\"data row4 col1\" >0.8959</td>\n",
       "      <td id=\"T_a37e1_row4_col2\" class=\"data row4 col2\" >0.9434</td>\n",
       "      <td id=\"T_a37e1_row4_col3\" class=\"data row4 col3\" >0.8278</td>\n",
       "      <td id=\"T_a37e1_row4_col4\" class=\"data row4 col4\" >0.8860</td>\n",
       "      <td id=\"T_a37e1_row4_col5\" class=\"data row4 col5\" >0.8496</td>\n",
       "      <td id=\"T_a37e1_row4_col6\" class=\"data row4 col6\" >0.7708</td>\n",
       "      <td id=\"T_a37e1_row4_col7\" class=\"data row4 col7\" >0.7781</td>\n",
       "      <td id=\"T_a37e1_row4_col8\" class=\"data row4 col8\" >0.0160</td>\n",
       "    </tr>\n",
       "    <tr>\n",
       "      <th id=\"T_a37e1_level0_row5\" class=\"row_heading level0 row5\" >rf</th>\n",
       "      <td id=\"T_a37e1_row5_col0\" class=\"data row5 col0\" >Random Forest Classifier</td>\n",
       "      <td id=\"T_a37e1_row5_col1\" class=\"data row5 col1\" >0.8958</td>\n",
       "      <td id=\"T_a37e1_row5_col2\" class=\"data row5 col2\" >0.9577</td>\n",
       "      <td id=\"T_a37e1_row5_col3\" class=\"data row5 col3\" >0.8667</td>\n",
       "      <td id=\"T_a37e1_row5_col4\" class=\"data row5 col4\" >0.8524</td>\n",
       "      <td id=\"T_a37e1_row5_col5\" class=\"data row5 col5\" >0.8547</td>\n",
       "      <td id=\"T_a37e1_row5_col6\" class=\"data row5 col6\" >0.7738</td>\n",
       "      <td id=\"T_a37e1_row5_col7\" class=\"data row5 col7\" >0.7798</td>\n",
       "      <td id=\"T_a37e1_row5_col8\" class=\"data row5 col8\" >0.0410</td>\n",
       "    </tr>\n",
       "    <tr>\n",
       "      <th id=\"T_a37e1_level0_row6\" class=\"row_heading level0 row6\" >et</th>\n",
       "      <td id=\"T_a37e1_row6_col0\" class=\"data row6 col0\" >Extra Trees Classifier</td>\n",
       "      <td id=\"T_a37e1_row6_col1\" class=\"data row6 col1\" >0.8852</td>\n",
       "      <td id=\"T_a37e1_row6_col2\" class=\"data row6 col2\" >0.9289</td>\n",
       "      <td id=\"T_a37e1_row6_col3\" class=\"data row6 col3\" >0.8578</td>\n",
       "      <td id=\"T_a37e1_row6_col4\" class=\"data row6 col4\" >0.8390</td>\n",
       "      <td id=\"T_a37e1_row6_col5\" class=\"data row6 col5\" >0.8425</td>\n",
       "      <td id=\"T_a37e1_row6_col6\" class=\"data row6 col6\" >0.7529</td>\n",
       "      <td id=\"T_a37e1_row6_col7\" class=\"data row6 col7\" >0.7603</td>\n",
       "      <td id=\"T_a37e1_row6_col8\" class=\"data row6 col8\" >0.0380</td>\n",
       "    </tr>\n",
       "    <tr>\n",
       "      <th id=\"T_a37e1_level0_row7\" class=\"row_heading level0 row7\" >dt</th>\n",
       "      <td id=\"T_a37e1_row7_col0\" class=\"data row7 col0\" >Decision Tree Classifier</td>\n",
       "      <td id=\"T_a37e1_row7_col1\" class=\"data row7 col1\" >0.8706</td>\n",
       "      <td id=\"T_a37e1_row7_col2\" class=\"data row7 col2\" >0.8575</td>\n",
       "      <td id=\"T_a37e1_row7_col3\" class=\"data row7 col3\" >0.7956</td>\n",
       "      <td id=\"T_a37e1_row7_col4\" class=\"data row7 col4\" >0.8395</td>\n",
       "      <td id=\"T_a37e1_row7_col5\" class=\"data row7 col5\" >0.8106</td>\n",
       "      <td id=\"T_a37e1_row7_col6\" class=\"data row7 col6\" >0.7131</td>\n",
       "      <td id=\"T_a37e1_row7_col7\" class=\"data row7 col7\" >0.7207</td>\n",
       "      <td id=\"T_a37e1_row7_col8\" class=\"data row7 col8\" >0.0030</td>\n",
       "    </tr>\n",
       "    <tr>\n",
       "      <th id=\"T_a37e1_level0_row8\" class=\"row_heading level0 row8\" >lda</th>\n",
       "      <td id=\"T_a37e1_row8_col0\" class=\"data row8 col0\" >Linear Discriminant Analysis</td>\n",
       "      <td id=\"T_a37e1_row8_col1\" class=\"data row8 col1\" >0.8567</td>\n",
       "      <td id=\"T_a37e1_row8_col2\" class=\"data row8 col2\" >0.9388</td>\n",
       "      <td id=\"T_a37e1_row8_col3\" class=\"data row8 col3\" >0.7289</td>\n",
       "      <td id=\"T_a37e1_row8_col4\" class=\"data row8 col4\" >0.8639</td>\n",
       "      <td id=\"T_a37e1_row8_col5\" class=\"data row8 col5\" >0.7792</td>\n",
       "      <td id=\"T_a37e1_row8_col6\" class=\"data row8 col6\" >0.6758</td>\n",
       "      <td id=\"T_a37e1_row8_col7\" class=\"data row8 col7\" >0.6903</td>\n",
       "      <td id=\"T_a37e1_row8_col8\" class=\"data row8 col8\" >0.0030</td>\n",
       "    </tr>\n",
       "    <tr>\n",
       "      <th id=\"T_a37e1_level0_row9\" class=\"row_heading level0 row9\" >ridge</th>\n",
       "      <td id=\"T_a37e1_row9_col0\" class=\"data row9 col0\" >Ridge Classifier</td>\n",
       "      <td id=\"T_a37e1_row9_col1\" class=\"data row9 col1\" >0.8532</td>\n",
       "      <td id=\"T_a37e1_row9_col2\" class=\"data row9 col2\" >0.0000</td>\n",
       "      <td id=\"T_a37e1_row9_col3\" class=\"data row9 col3\" >0.7189</td>\n",
       "      <td id=\"T_a37e1_row9_col4\" class=\"data row9 col4\" >0.8617</td>\n",
       "      <td id=\"T_a37e1_row9_col5\" class=\"data row9 col5\" >0.7729</td>\n",
       "      <td id=\"T_a37e1_row9_col6\" class=\"data row9 col6\" >0.6672</td>\n",
       "      <td id=\"T_a37e1_row9_col7\" class=\"data row9 col7\" >0.6818</td>\n",
       "      <td id=\"T_a37e1_row9_col8\" class=\"data row9 col8\" >0.0020</td>\n",
       "    </tr>\n",
       "    <tr>\n",
       "      <th id=\"T_a37e1_level0_row10\" class=\"row_heading level0 row10\" >knn</th>\n",
       "      <td id=\"T_a37e1_row10_col0\" class=\"data row10 col0\" >K Neighbors Classifier</td>\n",
       "      <td id=\"T_a37e1_row10_col1\" class=\"data row10 col1\" >0.7995</td>\n",
       "      <td id=\"T_a37e1_row10_col2\" class=\"data row10 col2\" >0.8828</td>\n",
       "      <td id=\"T_a37e1_row10_col3\" class=\"data row10 col3\" >0.6767</td>\n",
       "      <td id=\"T_a37e1_row10_col4\" class=\"data row10 col4\" >0.7611</td>\n",
       "      <td id=\"T_a37e1_row10_col5\" class=\"data row10 col5\" >0.6981</td>\n",
       "      <td id=\"T_a37e1_row10_col6\" class=\"data row10 col6\" >0.5523</td>\n",
       "      <td id=\"T_a37e1_row10_col7\" class=\"data row10 col7\" >0.5687</td>\n",
       "      <td id=\"T_a37e1_row10_col8\" class=\"data row10 col8\" >0.1810</td>\n",
       "    </tr>\n",
       "    <tr>\n",
       "      <th id=\"T_a37e1_level0_row11\" class=\"row_heading level0 row11\" >lr</th>\n",
       "      <td id=\"T_a37e1_row11_col0\" class=\"data row11 col0\" >Logistic Regression</td>\n",
       "      <td id=\"T_a37e1_row11_col1\" class=\"data row11 col1\" >0.6452</td>\n",
       "      <td id=\"T_a37e1_row11_col2\" class=\"data row11 col2\" >0.3256</td>\n",
       "      <td id=\"T_a37e1_row11_col3\" class=\"data row11 col3\" >0.0000</td>\n",
       "      <td id=\"T_a37e1_row11_col4\" class=\"data row11 col4\" >0.0000</td>\n",
       "      <td id=\"T_a37e1_row11_col5\" class=\"data row11 col5\" >0.0000</td>\n",
       "      <td id=\"T_a37e1_row11_col6\" class=\"data row11 col6\" >0.0000</td>\n",
       "      <td id=\"T_a37e1_row11_col7\" class=\"data row11 col7\" >0.0000</td>\n",
       "      <td id=\"T_a37e1_row11_col8\" class=\"data row11 col8\" >0.4180</td>\n",
       "    </tr>\n",
       "    <tr>\n",
       "      <th id=\"T_a37e1_level0_row12\" class=\"row_heading level0 row12\" >dummy</th>\n",
       "      <td id=\"T_a37e1_row12_col0\" class=\"data row12 col0\" >Dummy Classifier</td>\n",
       "      <td id=\"T_a37e1_row12_col1\" class=\"data row12 col1\" >0.6452</td>\n",
       "      <td id=\"T_a37e1_row12_col2\" class=\"data row12 col2\" >0.5000</td>\n",
       "      <td id=\"T_a37e1_row12_col3\" class=\"data row12 col3\" >0.0000</td>\n",
       "      <td id=\"T_a37e1_row12_col4\" class=\"data row12 col4\" >0.0000</td>\n",
       "      <td id=\"T_a37e1_row12_col5\" class=\"data row12 col5\" >0.0000</td>\n",
       "      <td id=\"T_a37e1_row12_col6\" class=\"data row12 col6\" >0.0000</td>\n",
       "      <td id=\"T_a37e1_row12_col7\" class=\"data row12 col7\" >0.0000</td>\n",
       "      <td id=\"T_a37e1_row12_col8\" class=\"data row12 col8\" >0.0030</td>\n",
       "    </tr>\n",
       "    <tr>\n",
       "      <th id=\"T_a37e1_level0_row13\" class=\"row_heading level0 row13\" >svm</th>\n",
       "      <td id=\"T_a37e1_row13_col0\" class=\"data row13 col0\" >SVM - Linear Kernel</td>\n",
       "      <td id=\"T_a37e1_row13_col1\" class=\"data row13 col1\" >0.5881</td>\n",
       "      <td id=\"T_a37e1_row13_col2\" class=\"data row13 col2\" >0.0000</td>\n",
       "      <td id=\"T_a37e1_row13_col3\" class=\"data row13 col3\" >0.2000</td>\n",
       "      <td id=\"T_a37e1_row13_col4\" class=\"data row13 col4\" >0.0714</td>\n",
       "      <td id=\"T_a37e1_row13_col5\" class=\"data row13 col5\" >0.1053</td>\n",
       "      <td id=\"T_a37e1_row13_col6\" class=\"data row13 col6\" >0.0000</td>\n",
       "      <td id=\"T_a37e1_row13_col7\" class=\"data row13 col7\" >0.0000</td>\n",
       "      <td id=\"T_a37e1_row13_col8\" class=\"data row13 col8\" >0.0030</td>\n",
       "    </tr>\n",
       "  </tbody>\n",
       "</table>\n"
      ],
      "text/plain": [
       "<pandas.io.formats.style.Styler at 0x182037cd3a0>"
      ]
     },
     "metadata": {},
     "output_type": "display_data"
    }
   ],
   "source": [
    "best = compare_models()"
   ]
  },
  {
   "cell_type": "code",
   "execution_count": 117,
   "metadata": {
    "scrolled": false
   },
   "outputs": [
    {
     "data": {
      "text/html": [
       "<div>\n",
       "<style scoped>\n",
       "    .dataframe tbody tr th:only-of-type {\n",
       "        vertical-align: middle;\n",
       "    }\n",
       "\n",
       "    .dataframe tbody tr th {\n",
       "        vertical-align: top;\n",
       "    }\n",
       "\n",
       "    .dataframe thead th {\n",
       "        text-align: right;\n",
       "    }\n",
       "</style>\n",
       "<table border=\"1\" class=\"dataframe\">\n",
       "  <thead>\n",
       "    <tr style=\"text-align: right;\">\n",
       "      <th></th>\n",
       "      <th>Parameters</th>\n",
       "    </tr>\n",
       "  </thead>\n",
       "  <tbody>\n",
       "    <tr>\n",
       "      <th>priors</th>\n",
       "      <td>None</td>\n",
       "    </tr>\n",
       "    <tr>\n",
       "      <th>reg_param</th>\n",
       "      <td>0.0</td>\n",
       "    </tr>\n",
       "    <tr>\n",
       "      <th>store_covariance</th>\n",
       "      <td>False</td>\n",
       "    </tr>\n",
       "    <tr>\n",
       "      <th>tol</th>\n",
       "      <td>0.0001</td>\n",
       "    </tr>\n",
       "  </tbody>\n",
       "</table>\n",
       "</div>"
      ],
      "text/plain": [
       "                 Parameters\n",
       "priors                 None\n",
       "reg_param               0.0\n",
       "store_covariance      False\n",
       "tol                  0.0001"
      ]
     },
     "metadata": {},
     "output_type": "display_data"
    }
   ],
   "source": [
    "evaluate_model(best)"
   ]
  },
  {
   "cell_type": "code",
   "execution_count": 118,
   "metadata": {
    "scrolled": true
   },
   "outputs": [
    {
     "data": {
      "image/png": "[encoded data removed]",
      "text/plain": [
       "<Figure size 576x396 with 1 Axes>"
      ]
     },
     "metadata": {},
     "output_type": "display_data"
    }
   ],
   "source": [
    "plot_model(best, plot = 'confusion_matrix')"
   ]
  },
  {
   "cell_type": "code",
   "execution_count": 119,
   "metadata": {
    "scrolled": true
   },
   "outputs": [
    {
     "data": {
      "text/html": [
       "<style type=\"text/css\">\n",
       "</style>\n",
       "<table id=\"T_b89ed_\">\n",
       "  <thead>\n",
       "    <tr>\n",
       "      <th class=\"blank level0\" >&nbsp;</th>\n",
       "      <th class=\"col_heading level0 col0\" >Model</th>\n",
       "      <th class=\"col_heading level0 col1\" >Accuracy</th>\n",
       "      <th class=\"col_heading level0 col2\" >AUC</th>\n",
       "      <th class=\"col_heading level0 col3\" >Recall</th>\n",
       "      <th class=\"col_heading level0 col4\" >Prec.</th>\n",
       "      <th class=\"col_heading level0 col5\" >F1</th>\n",
       "      <th class=\"col_heading level0 col6\" >Kappa</th>\n",
       "      <th class=\"col_heading level0 col7\" >MCC</th>\n",
       "    </tr>\n",
       "  </thead>\n",
       "  <tbody>\n",
       "    <tr>\n",
       "      <th id=\"T_b89ed_level0_row0\" class=\"row_heading level0 row0\" >0</th>\n",
       "      <td id=\"T_b89ed_row0_col0\" class=\"data row0 col0\" >Quadratic Discriminant Analysis</td>\n",
       "      <td id=\"T_b89ed_row0_col1\" class=\"data row0 col1\" >0.8760</td>\n",
       "      <td id=\"T_b89ed_row0_col2\" class=\"data row0 col2\" >0.9277</td>\n",
       "      <td id=\"T_b89ed_row0_col3\" class=\"data row0 col3\" >0.8182</td>\n",
       "      <td id=\"T_b89ed_row0_col4\" class=\"data row0 col4\" >0.8372</td>\n",
       "      <td id=\"T_b89ed_row0_col5\" class=\"data row0 col5\" >0.8276</td>\n",
       "      <td id=\"T_b89ed_row0_col6\" class=\"data row0 col6\" >0.7308</td>\n",
       "      <td id=\"T_b89ed_row0_col7\" class=\"data row0 col7\" >0.7309</td>\n",
       "    </tr>\n",
       "  </tbody>\n",
       "</table>\n"
      ],
      "text/plain": [
       "<pandas.io.formats.style.Styler at 0x18205e39790>"
      ]
     },
     "metadata": {},
     "output_type": "display_data"
    },
    {
     "data": {
      "text/html": [
       "<div>\n",
       "<style scoped>\n",
       "    .dataframe tbody tr th:only-of-type {\n",
       "        vertical-align: middle;\n",
       "    }\n",
       "\n",
       "    .dataframe tbody tr th {\n",
       "        vertical-align: top;\n",
       "    }\n",
       "\n",
       "    .dataframe thead th {\n",
       "        text-align: right;\n",
       "    }\n",
       "</style>\n",
       "<table border=\"1\" class=\"dataframe\">\n",
       "  <thead>\n",
       "    <tr style=\"text-align: right;\">\n",
       "      <th></th>\n",
       "      <th>Age</th>\n",
       "      <th>EstimatedSalary</th>\n",
       "      <th>Purchased</th>\n",
       "      <th>Label</th>\n",
       "      <th>Score</th>\n",
       "    </tr>\n",
       "  </thead>\n",
       "  <tbody>\n",
       "    <tr>\n",
       "      <th>0</th>\n",
       "      <td>36.0</td>\n",
       "      <td>75000.0</td>\n",
       "      <td>0</td>\n",
       "      <td>0</td>\n",
       "      <td>0.8871</td>\n",
       "    </tr>\n",
       "    <tr>\n",
       "      <th>1</th>\n",
       "      <td>49.0</td>\n",
       "      <td>39000.0</td>\n",
       "      <td>1</td>\n",
       "      <td>1</td>\n",
       "      <td>0.8105</td>\n",
       "    </tr>\n",
       "    <tr>\n",
       "      <th>2</th>\n",
       "      <td>54.0</td>\n",
       "      <td>108000.0</td>\n",
       "      <td>1</td>\n",
       "      <td>1</td>\n",
       "      <td>0.9294</td>\n",
       "    </tr>\n",
       "    <tr>\n",
       "      <th>3</th>\n",
       "      <td>37.0</td>\n",
       "      <td>71000.0</td>\n",
       "      <td>0</td>\n",
       "      <td>0</td>\n",
       "      <td>0.8790</td>\n",
       "    </tr>\n",
       "    <tr>\n",
       "      <th>4</th>\n",
       "      <td>24.0</td>\n",
       "      <td>27000.0</td>\n",
       "      <td>0</td>\n",
       "      <td>0</td>\n",
       "      <td>0.9993</td>\n",
       "    </tr>\n",
       "    <tr>\n",
       "      <th>...</th>\n",
       "      <td>...</td>\n",
       "      <td>...</td>\n",
       "      <td>...</td>\n",
       "      <td>...</td>\n",
       "      <td>...</td>\n",
       "    </tr>\n",
       "    <tr>\n",
       "      <th>116</th>\n",
       "      <td>59.0</td>\n",
       "      <td>42000.0</td>\n",
       "      <td>0</td>\n",
       "      <td>1</td>\n",
       "      <td>0.9915</td>\n",
       "    </tr>\n",
       "    <tr>\n",
       "      <th>117</th>\n",
       "      <td>30.0</td>\n",
       "      <td>62000.0</td>\n",
       "      <td>0</td>\n",
       "      <td>0</td>\n",
       "      <td>0.9843</td>\n",
       "    </tr>\n",
       "    <tr>\n",
       "      <th>118</th>\n",
       "      <td>27.0</td>\n",
       "      <td>17000.0</td>\n",
       "      <td>0</td>\n",
       "      <td>0</td>\n",
       "      <td>0.9983</td>\n",
       "    </tr>\n",
       "    <tr>\n",
       "      <th>119</th>\n",
       "      <td>30.0</td>\n",
       "      <td>15000.0</td>\n",
       "      <td>0</td>\n",
       "      <td>0</td>\n",
       "      <td>0.9945</td>\n",
       "    </tr>\n",
       "    <tr>\n",
       "      <th>120</th>\n",
       "      <td>57.0</td>\n",
       "      <td>74000.0</td>\n",
       "      <td>1</td>\n",
       "      <td>1</td>\n",
       "      <td>0.9530</td>\n",
       "    </tr>\n",
       "  </tbody>\n",
       "</table>\n",
       "<p>121 rows × 5 columns</p>\n",
       "</div>"
      ],
      "text/plain": [
       "      Age  EstimatedSalary  Purchased  Label   Score\n",
       "0    36.0          75000.0          0      0  0.8871\n",
       "1    49.0          39000.0          1      1  0.8105\n",
       "2    54.0         108000.0          1      1  0.9294\n",
       "3    37.0          71000.0          0      0  0.8790\n",
       "4    24.0          27000.0          0      0  0.9993\n",
       "..    ...              ...        ...    ...     ...\n",
       "116  59.0          42000.0          0      1  0.9915\n",
       "117  30.0          62000.0          0      0  0.9843\n",
       "118  27.0          17000.0          0      0  0.9983\n",
       "119  30.0          15000.0          0      0  0.9945\n",
       "120  57.0          74000.0          1      1  0.9530\n",
       "\n",
       "[121 rows x 5 columns]"
      ]
     },
     "execution_count": 119,
     "metadata": {},
     "output_type": "execute_result"
    }
   ],
   "source": [
    "predict_model(best)"
   ]
  },
  {
   "cell_type": "code",
   "execution_count": 120,
   "metadata": {
    "scrolled": true
   },
   "outputs": [
    {
     "data": {
      "text/html": [
       "<div>\n",
       "<style scoped>\n",
       "    .dataframe tbody tr th:only-of-type {\n",
       "        vertical-align: middle;\n",
       "    }\n",
       "\n",
       "    .dataframe tbody tr th {\n",
       "        vertical-align: top;\n",
       "    }\n",
       "\n",
       "    .dataframe thead th {\n",
       "        text-align: right;\n",
       "    }\n",
       "</style>\n",
       "<table border=\"1\" class=\"dataframe\">\n",
       "  <thead>\n",
       "    <tr style=\"text-align: right;\">\n",
       "      <th></th>\n",
       "      <th>Age</th>\n",
       "      <th>EstimatedSalary</th>\n",
       "      <th>Purchased</th>\n",
       "      <th>Label</th>\n",
       "      <th>Score_0</th>\n",
       "      <th>Score_1</th>\n",
       "    </tr>\n",
       "  </thead>\n",
       "  <tbody>\n",
       "    <tr>\n",
       "      <th>0</th>\n",
       "      <td>19</td>\n",
       "      <td>19000</td>\n",
       "      <td>0</td>\n",
       "      <td>0</td>\n",
       "      <td>0.9999</td>\n",
       "      <td>0.0001</td>\n",
       "    </tr>\n",
       "    <tr>\n",
       "      <th>1</th>\n",
       "      <td>35</td>\n",
       "      <td>20000</td>\n",
       "      <td>0</td>\n",
       "      <td>0</td>\n",
       "      <td>0.9633</td>\n",
       "      <td>0.0367</td>\n",
       "    </tr>\n",
       "    <tr>\n",
       "      <th>2</th>\n",
       "      <td>26</td>\n",
       "      <td>43000</td>\n",
       "      <td>0</td>\n",
       "      <td>0</td>\n",
       "      <td>0.9978</td>\n",
       "      <td>0.0022</td>\n",
       "    </tr>\n",
       "    <tr>\n",
       "      <th>3</th>\n",
       "      <td>27</td>\n",
       "      <td>57000</td>\n",
       "      <td>0</td>\n",
       "      <td>0</td>\n",
       "      <td>0.9945</td>\n",
       "      <td>0.0055</td>\n",
       "    </tr>\n",
       "    <tr>\n",
       "      <th>4</th>\n",
       "      <td>19</td>\n",
       "      <td>76000</td>\n",
       "      <td>0</td>\n",
       "      <td>0</td>\n",
       "      <td>0.9970</td>\n",
       "      <td>0.0030</td>\n",
       "    </tr>\n",
       "  </tbody>\n",
       "</table>\n",
       "</div>"
      ],
      "text/plain": [
       "   Age  EstimatedSalary  Purchased  Label  Score_0  Score_1\n",
       "0   19            19000          0      0   0.9999   0.0001\n",
       "1   35            20000          0      0   0.9633   0.0367\n",
       "2   26            43000          0      0   0.9978   0.0022\n",
       "3   27            57000          0      0   0.9945   0.0055\n",
       "4   19            76000          0      0   0.9970   0.0030"
      ]
     },
     "execution_count": 120,
     "metadata": {},
     "output_type": "execute_result"
    }
   ],
   "source": [
    "predictions = predict_model(best, data=df, raw_score=True)\n",
    "predictions.head()"
   ]
  },
  {
   "cell_type": "code",
   "execution_count": 121,
   "metadata": {
    "scrolled": true
   },
   "outputs": [
    {
     "name": "stdout",
     "output_type": "stream",
     "text": [
      "Score Naive Bayers manual: 0.925\n",
      "              precision    recall  f1-score   support\n",
      "\n",
      "           0       0.90      0.99      0.94        73\n",
      "           1       0.97      0.83      0.90        47\n",
      "\n",
      "    accuracy                           0.93       120\n",
      "   macro avg       0.94      0.91      0.92       120\n",
      "weighted avg       0.93      0.93      0.92       120\n",
      "\n"
     ]
    }
   ],
   "source": [
    "print(\"Score Naive Bayers manual:\",model.score(X_test, y_test))\n",
    "y_pred = model.predict(X_test)\n",
    "print(classification_report(y_test, y_pred))"
   ]
  },
  {
   "cell_type": "code",
   "execution_count": 122,
   "metadata": {},
   "outputs": [
    {
     "name": "stdout",
     "output_type": "stream",
     "text": [
      "Score do Pycaret - melhor modelo encontrado: 0.9416666666666667\n",
      "              precision    recall  f1-score   support\n",
      "\n",
      "           0       0.93      0.97      0.95        73\n",
      "           1       0.95      0.89      0.92        47\n",
      "\n",
      "    accuracy                           0.94       120\n",
      "   macro avg       0.94      0.93      0.94       120\n",
      "weighted avg       0.94      0.94      0.94       120\n",
      "\n"
     ]
    }
   ],
   "source": [
    "print(\"Score do Pycaret - melhor modelo encontrado:\",best.score(X_test, y_test))\n",
    "y_pred = best.predict(X_test)\n",
    "print(classification_report(y_test, y_pred))"
   ]
  },
  {
   "cell_type": "code",
   "execution_count": 123,
   "metadata": {},
   "outputs": [
    {
     "name": "stdout",
     "output_type": "stream",
     "text": [
      "Classificador: 1\n",
      "Valor Real: 1\n"
     ]
    }
   ],
   "source": [
    "y_pred = best.predict(X_test) #testando o modelo\n",
    "print('Classificador:', y_pred[1])\n",
    "print('Valor Real:', y_test.iloc[1])"
   ]
  },
  {
   "cell_type": "markdown",
   "metadata": {
    "id": "ZUvptHCQiy0T"
   },
   "source": [
    "3.\tImplementar ao menos uma técnica de validação do desempenho do modelo"
   ]
  },
  {
   "cell_type": "markdown",
   "metadata": {},
   "source": [
    "## Validação Cruzada para verificar qual algoritmo se saiu melhor"
   ]
  },
  {
   "cell_type": "code",
   "execution_count": 124,
   "metadata": {},
   "outputs": [
    {
     "name": "stdout",
     "output_type": "stream",
     "text": [
      "Scores obitidos: [0.825 0.775 0.95  0.975 1.    0.875 0.775 0.8   0.875 0.925]\n",
      "Média de Score: 0.8775000000000001\n"
     ]
    }
   ],
   "source": [
    "scores = cross_val_score(model, X, y, cv=10) #variável com número de validações cv\n",
    "\n",
    "print(\"Scores obitidos:\",scores)\n",
    "print(\"Média de Score:\",scores.mean())"
   ]
  },
  {
   "cell_type": "code",
   "execution_count": 125,
   "metadata": {},
   "outputs": [
    {
     "name": "stdout",
     "output_type": "stream",
     "text": [
      "Scores obitidos: [0.925 0.775 0.9   0.975 1.    0.875 0.8   0.8   0.875 0.95 ]\n",
      "Média de Score: 0.8875\n"
     ]
    }
   ],
   "source": [
    "scores = cross_val_score(best, X, y, cv=10) #variável com número de validações cv\n",
    "\n",
    "print(\"Scores obitidos:\",scores)\n",
    "print(\"Média de Score:\",scores.mean())"
   ]
  },
  {
   "cell_type": "markdown",
   "metadata": {
    "id": "jtKYp-jWgPEf"
   },
   "source": [
    "4.\tRealizar análise do desempenho do modelo escolhido. Exemplos: indicar se foi necessário realizar algum pré-processamento nos dados, comentar sobre os hiperparâmetros usados, explicar os resultados e a técnica de validação utilizada, entre outras."
   ]
  },
  {
   "cell_type": "markdown",
   "metadata": {
    "id": "-aONQXWp26u7"
   },
   "source": [
    "## Análise do projeto\n",
    "> Para a etapa de exploração e pré-processamento, fiz uma verificação inicial dos possíveis problemas: Valores nulos em algum lugar do DataFrame, dados não normalizados, dados uplicados, Variáveis categóricas, correlação baixa entre os dados e outliers.\n",
    "\n",
    "> Destes problemas, encontrei que havia a coluna de Gênero como categórica, então converti Masculino pra 1 e Feminino para 0. Após isso, percebi que a correção das variáveis Id_User e Gênero eram muito baixas com o resto dos dados(perto de 0), então fiz o drop destas 2 colunas dentro do DataFrame, o resto dos possíveis problemas mencionados acima foram analisados, porém não foi indetificado nada que poderia impactar no desempenho do algoritmo preditivo.\n",
    "\n",
    "> Partindo para os algoritmos de aprendizado, fiz um teste inicial com a Regressão Linear, que se mostrou insuficiente pra minha surpresa, pois eu achava que era um problema deste tipo, fui conferir se o algoritmo de classificação se saía melhor e teve um desempenho muito acima do esperado, tive então a ideia de perguntar pra Jane o motivo de ser um problema de Classificação, pois eu ainda estava com essa dúvida de qual escolher depois de ler o material na noite passada. Sabendo agora que o problema era de classificação, explorei os modelos KNN e Naive Bayer, sem uso de hiperparâmetros neles, definido o número de K-vizinhos como 5 também. O algoritmo Naive Bayer teve um score de 0.925, enquanto o KNN 0.816. Depois, fiz a predição com o Naive Bayer para ver se ele de fato estava acertando pelo menos algo e confirmei que estava.\n",
    "\n",
    "> Em estudos passados sobre Machine Learning, mais especificamente em uma maratona feita pela IBM no ano passado, a Behind the Code, vi que alguns competidores estavam usando uma biblioteca chamada PyCaret e fui atrás da documentação dela pra implementar aqui. Se trata de uma biblioteca que automatiza testes com diversos modelos e encontra o melhor com seus hiperparâmetros já definidos em pouco tempo(Para este dataset, questão de 10seg mais ou menos), meu objetivo aqui no caso seria tentar subir ainda mais o score, utilizando outros algoritmos. De todos os analisados pela biblioteca, foi retornado o Quadratic Discriminant Analysis como sendo o de maior score, plotei sua Matriz de confusão e o Report de Classificação para ver se não estava dando nenhum caso de Overfitting e aparentemente ficou estável, tendo um score final de 0.941.\n",
    "\n",
    "> Por fim, adotei o método de validação cruzada visto em aula, usando 10 iterações para ser um pouco mais rigoroso com os dados e comparando tanto o Naive Bayers que fiz sua implementação manualmente quanto a sugestão do PyCaret, onde foi obtido o resultado de que realmente o algoritmo do PyCaret é ligeiramente mais eficiente nos resultados, tendo uma média de Score em 0.8875, enquanto o Naive Bayers teve 0.8775, exatamente 1% a menos de média.\n",
    "\n"
   ]
  }
 ],
 "metadata": {
  "colab": {
   "collapsed_sections": [],
   "name": "Projeto Final Machine Learning.ipynb",
   "provenance": []
  },
  "kernelspec": {
   "display_name": "Python 3 (ipykernel)",
   "language": "python",
   "name": "python3"
  },
  "language_info": {
   "codemirror_mode": {
    "name": "ipython",
    "version": 3
   },
   "file_extension": ".py",
   "mimetype": "text/x-python",
   "name": "python",
   "nbconvert_exporter": "python",
   "pygments_lexer": "ipython3",
   "version": "3.9.6"
  }
 },
 "nbformat": 4,
 "nbformat_minor": 1
}
