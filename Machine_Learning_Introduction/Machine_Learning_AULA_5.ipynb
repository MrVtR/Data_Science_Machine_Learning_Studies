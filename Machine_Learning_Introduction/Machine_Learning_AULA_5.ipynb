{
 "cells": [
  {
   "cell_type": "markdown",
   "metadata": {
    "id": "hTjhTVFob0XB"
   },
   "source": [
    "###Avaliação de Desempenho"
   ]
  },
  {
   "cell_type": "markdown",
   "metadata": {
    "id": "LcwAMGTIcZKe"
   },
   "source": [
    "Conjunto de Dados - Dataset COVID, FLU, COLD Symptoms - [Download](https://drive.google.com/file/d/15_WvzvIN5bjyxMttJxCt48hFPjfz2Ts_/view?usp=sharing)"
   ]
  },
  {
   "cell_type": "code",
   "execution_count": null,
   "metadata": {
    "id": "Zp3b6nZ4dEob"
   },
   "outputs": [],
   "source": [
    "from sklearn.model_selection import train_test_split\n",
    "from sklearn.ensemble import VotingClassifier\n",
    "from sklearn.neighbors import KNeighborsClassifier\n",
    "from sklearn.naive_bayes import GaussianNB\n",
    "from sklearn.tree import DecisionTreeClassifier \n",
    "from sklearn.metrics import classification_report\n",
    "import pandas as pd\n",
    "\n",
    "import imblearn\n",
    "from imblearn.under_sampling import RandomUnderSampler"
   ]
  },
  {
   "cell_type": "code",
   "execution_count": null,
   "metadata": {
    "id": "1aNCLSkHcX7U"
   },
   "outputs": [],
   "source": [
    "df = pd.read_csv('/content/covid.csv')"
   ]
  },
  {
   "cell_type": "code",
   "execution_count": null,
   "metadata": {
    "colab": {
     "base_uri": "https://localhost:8080/"
    },
    "id": "Iq5ks4z_bymM",
    "outputId": "4c296bea-8437-4099-ce0e-90ff7dfc7c7e"
   },
   "outputs": [
    {
     "name": "stdout",
     "output_type": "stream",
     "text": [
      "<class 'pandas.core.frame.DataFrame'>\n",
      "RangeIndex: 44453 entries, 0 to 44452\n",
      "Data columns (total 21 columns):\n",
      " #   Column                Non-Null Count  Dtype \n",
      "---  ------                --------------  ----- \n",
      " 0   COUGH                 44453 non-null  int64 \n",
      " 1   MUSCLE_ACHES          44453 non-null  int64 \n",
      " 2   TIREDNESS             44453 non-null  int64 \n",
      " 3   SORE_THROAT           44453 non-null  int64 \n",
      " 4   RUNNY_NOSE            44453 non-null  int64 \n",
      " 5   STUFFY_NOSE           44453 non-null  int64 \n",
      " 6   FEVER                 44453 non-null  int64 \n",
      " 7   NAUSEA                44453 non-null  int64 \n",
      " 8   VOMITING              44453 non-null  int64 \n",
      " 9   DIARRHEA              44453 non-null  int64 \n",
      " 10  SHORTNESS_OF_BREATH   44453 non-null  int64 \n",
      " 11  DIFFICULTY_BREATHING  44453 non-null  int64 \n",
      " 12  LOSS_OF_TASTE         44453 non-null  int64 \n",
      " 13  LOSS_OF_SMELL         44453 non-null  int64 \n",
      " 14  ITCHY_NOSE            44453 non-null  int64 \n",
      " 15  ITCHY_EYES            44453 non-null  int64 \n",
      " 16  ITCHY_MOUTH           44453 non-null  int64 \n",
      " 17  ITCHY_INNER_EAR       44453 non-null  int64 \n",
      " 18  SNEEZING              44453 non-null  int64 \n",
      " 19  PINK_EYE              44453 non-null  int64 \n",
      " 20  TYPE                  44453 non-null  object\n",
      "dtypes: int64(20), object(1)\n",
      "memory usage: 7.1+ MB\n"
     ]
    }
   ],
   "source": [
    "df.info()"
   ]
  },
  {
   "cell_type": "code",
   "execution_count": null,
   "metadata": {
    "colab": {
     "base_uri": "https://localhost:8080/"
    },
    "id": "VU1K9zihdQjT",
    "outputId": "4764a7d4-419b-46b7-a483-fffea90f5e19"
   },
   "outputs": [
    {
     "data": {
      "text/plain": [
       "Index(['COUGH', 'MUSCLE_ACHES', 'TIREDNESS', 'SORE_THROAT', 'RUNNY_NOSE',\n",
       "       'STUFFY_NOSE', 'FEVER', 'NAUSEA', 'VOMITING', 'DIARRHEA',\n",
       "       'SHORTNESS_OF_BREATH', 'DIFFICULTY_BREATHING', 'LOSS_OF_TASTE',\n",
       "       'LOSS_OF_SMELL', 'ITCHY_NOSE', 'ITCHY_EYES', 'ITCHY_MOUTH',\n",
       "       'ITCHY_INNER_EAR', 'SNEEZING', 'PINK_EYE', 'TYPE'],\n",
       "      dtype='object')"
      ]
     },
     "execution_count": 4,
     "metadata": {},
     "output_type": "execute_result"
    }
   ],
   "source": [
    "df.columns"
   ]
  },
  {
   "cell_type": "code",
   "execution_count": null,
   "metadata": {
    "colab": {
     "base_uri": "https://localhost:8080/",
     "height": 270
    },
    "id": "f4KKI99GdUDn",
    "outputId": "11831487-1e00-49fc-9c01-663e2356a99a"
   },
   "outputs": [
    {
     "data": {
      "text/html": [
       "\n",
       "  <div id=\"df-ff8b0e27-7aa3-4712-afde-6a84d2801854\">\n",
       "    <div class=\"colab-df-container\">\n",
       "      <div>\n",
       "<style scoped>\n",
       "    .dataframe tbody tr th:only-of-type {\n",
       "        vertical-align: middle;\n",
       "    }\n",
       "\n",
       "    .dataframe tbody tr th {\n",
       "        vertical-align: top;\n",
       "    }\n",
       "\n",
       "    .dataframe thead th {\n",
       "        text-align: right;\n",
       "    }\n",
       "</style>\n",
       "<table border=\"1\" class=\"dataframe\">\n",
       "  <thead>\n",
       "    <tr style=\"text-align: right;\">\n",
       "      <th></th>\n",
       "      <th>COUGH</th>\n",
       "      <th>MUSCLE_ACHES</th>\n",
       "      <th>TIREDNESS</th>\n",
       "      <th>SORE_THROAT</th>\n",
       "      <th>RUNNY_NOSE</th>\n",
       "      <th>STUFFY_NOSE</th>\n",
       "      <th>FEVER</th>\n",
       "      <th>NAUSEA</th>\n",
       "      <th>VOMITING</th>\n",
       "      <th>DIARRHEA</th>\n",
       "      <th>SHORTNESS_OF_BREATH</th>\n",
       "      <th>DIFFICULTY_BREATHING</th>\n",
       "      <th>LOSS_OF_TASTE</th>\n",
       "      <th>LOSS_OF_SMELL</th>\n",
       "      <th>ITCHY_NOSE</th>\n",
       "      <th>ITCHY_EYES</th>\n",
       "      <th>ITCHY_MOUTH</th>\n",
       "      <th>ITCHY_INNER_EAR</th>\n",
       "      <th>SNEEZING</th>\n",
       "      <th>PINK_EYE</th>\n",
       "      <th>TYPE</th>\n",
       "    </tr>\n",
       "  </thead>\n",
       "  <tbody>\n",
       "    <tr>\n",
       "      <th>0</th>\n",
       "      <td>0</td>\n",
       "      <td>0</td>\n",
       "      <td>1</td>\n",
       "      <td>0</td>\n",
       "      <td>1</td>\n",
       "      <td>0</td>\n",
       "      <td>0</td>\n",
       "      <td>0</td>\n",
       "      <td>0</td>\n",
       "      <td>0</td>\n",
       "      <td>0</td>\n",
       "      <td>0</td>\n",
       "      <td>1</td>\n",
       "      <td>0</td>\n",
       "      <td>1</td>\n",
       "      <td>0</td>\n",
       "      <td>0</td>\n",
       "      <td>1</td>\n",
       "      <td>0</td>\n",
       "      <td>1</td>\n",
       "      <td>ALLERGY</td>\n",
       "    </tr>\n",
       "    <tr>\n",
       "      <th>1</th>\n",
       "      <td>0</td>\n",
       "      <td>0</td>\n",
       "      <td>1</td>\n",
       "      <td>0</td>\n",
       "      <td>0</td>\n",
       "      <td>0</td>\n",
       "      <td>0</td>\n",
       "      <td>0</td>\n",
       "      <td>0</td>\n",
       "      <td>0</td>\n",
       "      <td>0</td>\n",
       "      <td>0</td>\n",
       "      <td>1</td>\n",
       "      <td>0</td>\n",
       "      <td>1</td>\n",
       "      <td>0</td>\n",
       "      <td>1</td>\n",
       "      <td>1</td>\n",
       "      <td>1</td>\n",
       "      <td>1</td>\n",
       "      <td>ALLERGY</td>\n",
       "    </tr>\n",
       "    <tr>\n",
       "      <th>2</th>\n",
       "      <td>0</td>\n",
       "      <td>1</td>\n",
       "      <td>1</td>\n",
       "      <td>1</td>\n",
       "      <td>0</td>\n",
       "      <td>0</td>\n",
       "      <td>0</td>\n",
       "      <td>0</td>\n",
       "      <td>0</td>\n",
       "      <td>0</td>\n",
       "      <td>0</td>\n",
       "      <td>0</td>\n",
       "      <td>1</td>\n",
       "      <td>0</td>\n",
       "      <td>1</td>\n",
       "      <td>0</td>\n",
       "      <td>0</td>\n",
       "      <td>0</td>\n",
       "      <td>0</td>\n",
       "      <td>1</td>\n",
       "      <td>ALLERGY</td>\n",
       "    </tr>\n",
       "    <tr>\n",
       "      <th>3</th>\n",
       "      <td>0</td>\n",
       "      <td>0</td>\n",
       "      <td>0</td>\n",
       "      <td>1</td>\n",
       "      <td>1</td>\n",
       "      <td>0</td>\n",
       "      <td>0</td>\n",
       "      <td>0</td>\n",
       "      <td>0</td>\n",
       "      <td>0</td>\n",
       "      <td>0</td>\n",
       "      <td>0</td>\n",
       "      <td>1</td>\n",
       "      <td>1</td>\n",
       "      <td>0</td>\n",
       "      <td>0</td>\n",
       "      <td>1</td>\n",
       "      <td>0</td>\n",
       "      <td>1</td>\n",
       "      <td>1</td>\n",
       "      <td>ALLERGY</td>\n",
       "    </tr>\n",
       "    <tr>\n",
       "      <th>4</th>\n",
       "      <td>0</td>\n",
       "      <td>0</td>\n",
       "      <td>1</td>\n",
       "      <td>0</td>\n",
       "      <td>1</td>\n",
       "      <td>0</td>\n",
       "      <td>0</td>\n",
       "      <td>0</td>\n",
       "      <td>0</td>\n",
       "      <td>0</td>\n",
       "      <td>0</td>\n",
       "      <td>0</td>\n",
       "      <td>1</td>\n",
       "      <td>1</td>\n",
       "      <td>0</td>\n",
       "      <td>1</td>\n",
       "      <td>0</td>\n",
       "      <td>1</td>\n",
       "      <td>1</td>\n",
       "      <td>1</td>\n",
       "      <td>ALLERGY</td>\n",
       "    </tr>\n",
       "  </tbody>\n",
       "</table>\n",
       "</div>\n",
       "      <button class=\"colab-df-convert\" onclick=\"convertToInteractive('df-ff8b0e27-7aa3-4712-afde-6a84d2801854')\"\n",
       "              title=\"Convert this dataframe to an interactive table.\"\n",
       "              style=\"display:none;\">\n",
       "        \n",
       "  <svg xmlns=\"http://www.w3.org/2000/svg\" height=\"24px\"viewBox=\"0 0 24 24\"\n",
       "       width=\"24px\">\n",
       "    <path d=\"M0 0h24v24H0V0z\" fill=\"none\"/>\n",
       "    <path d=\"M18.56 5.44l.94 2.06.94-2.06 2.06-.94-2.06-.94-.94-2.06-.94 2.06-2.06.94zm-11 1L8.5 8.5l.94-2.06 2.06-.94-2.06-.94L8.5 2.5l-.94 2.06-2.06.94zm10 10l.94 2.06.94-2.06 2.06-.94-2.06-.94-.94-2.06-.94 2.06-2.06.94z\"/><path d=\"M17.41 7.96l-1.37-1.37c-.4-.4-.92-.59-1.43-.59-.52 0-1.04.2-1.43.59L10.3 9.45l-7.72 7.72c-.78.78-.78 2.05 0 2.83L4 21.41c.39.39.9.59 1.41.59.51 0 1.02-.2 1.41-.59l7.78-7.78 2.81-2.81c.8-.78.8-2.07 0-2.86zM5.41 20L4 18.59l7.72-7.72 1.47 1.35L5.41 20z\"/>\n",
       "  </svg>\n",
       "      </button>\n",
       "      \n",
       "  <style>\n",
       "    .colab-df-container {\n",
       "      display:flex;\n",
       "      flex-wrap:wrap;\n",
       "      gap: 12px;\n",
       "    }\n",
       "\n",
       "    .colab-df-convert {\n",
       "      background-color: #E8F0FE;\n",
       "      border: none;\n",
       "      border-radius: 50%;\n",
       "      cursor: pointer;\n",
       "      display: none;\n",
       "      fill: #1967D2;\n",
       "      height: 32px;\n",
       "      padding: 0 0 0 0;\n",
       "      width: 32px;\n",
       "    }\n",
       "\n",
       "    .colab-df-convert:hover {\n",
       "      background-color: #E2EBFA;\n",
       "      box-shadow: 0px 1px 2px rgba(60, 64, 67, 0.3), 0px 1px 3px 1px rgba(60, 64, 67, 0.15);\n",
       "      fill: #174EA6;\n",
       "    }\n",
       "\n",
       "    [theme=dark] .colab-df-convert {\n",
       "      background-color: #3B4455;\n",
       "      fill: #D2E3FC;\n",
       "    }\n",
       "\n",
       "    [theme=dark] .colab-df-convert:hover {\n",
       "      background-color: #434B5C;\n",
       "      box-shadow: 0px 1px 3px 1px rgba(0, 0, 0, 0.15);\n",
       "      filter: drop-shadow(0px 1px 2px rgba(0, 0, 0, 0.3));\n",
       "      fill: #FFFFFF;\n",
       "    }\n",
       "  </style>\n",
       "\n",
       "      <script>\n",
       "        const buttonEl =\n",
       "          document.querySelector('#df-ff8b0e27-7aa3-4712-afde-6a84d2801854 button.colab-df-convert');\n",
       "        buttonEl.style.display =\n",
       "          google.colab.kernel.accessAllowed ? 'block' : 'none';\n",
       "\n",
       "        async function convertToInteractive(key) {\n",
       "          const element = document.querySelector('#df-ff8b0e27-7aa3-4712-afde-6a84d2801854');\n",
       "          const dataTable =\n",
       "            await google.colab.kernel.invokeFunction('convertToInteractive',\n",
       "                                                     [key], {});\n",
       "          if (!dataTable) return;\n",
       "\n",
       "          const docLinkHtml = 'Like what you see? Visit the ' +\n",
       "            '<a target=\"_blank\" href=https://colab.research.google.com/notebooks/data_table.ipynb>data table notebook</a>'\n",
       "            + ' to learn more about interactive tables.';\n",
       "          element.innerHTML = '';\n",
       "          dataTable['output_type'] = 'display_data';\n",
       "          await google.colab.output.renderOutput(dataTable, element);\n",
       "          const docLink = document.createElement('div');\n",
       "          docLink.innerHTML = docLinkHtml;\n",
       "          element.appendChild(docLink);\n",
       "        }\n",
       "      </script>\n",
       "    </div>\n",
       "  </div>\n",
       "  "
      ],
      "text/plain": [
       "   COUGH  MUSCLE_ACHES  TIREDNESS  ...  SNEEZING  PINK_EYE     TYPE\n",
       "0      0             0          1  ...         0         1  ALLERGY\n",
       "1      0             0          1  ...         1         1  ALLERGY\n",
       "2      0             1          1  ...         0         1  ALLERGY\n",
       "3      0             0          0  ...         1         1  ALLERGY\n",
       "4      0             0          1  ...         1         1  ALLERGY\n",
       "\n",
       "[5 rows x 21 columns]"
      ]
     },
     "execution_count": 5,
     "metadata": {},
     "output_type": "execute_result"
    }
   ],
   "source": [
    "df.head()"
   ]
  },
  {
   "cell_type": "code",
   "execution_count": null,
   "metadata": {
    "colab": {
     "base_uri": "https://localhost:8080/",
     "height": 403
    },
    "id": "gidsv419dYtW",
    "outputId": "1eec0479-bdab-4b93-fee6-8eec6257eab3"
   },
   "outputs": [
    {
     "name": "stdout",
     "output_type": "stream",
     "text": [
      "FLU        25000\n",
      "ALLERGY    16381\n",
      "COVID       2048\n",
      "COLD        1024\n",
      "Name: TYPE, dtype: int64\n"
     ]
    },
    {
     "data": {
      "image/png": "[encoded data removed]",
      "text/plain": [
       "<Figure size 432x288 with 1 Axes>"
      ]
     },
     "metadata": {
      "needs_background": "light"
     },
     "output_type": "display_data"
    }
   ],
   "source": [
    "#Verificando o desbalanceamento\n",
    "\n",
    "features = df.TYPE.value_counts()\n",
    "print(features)\n",
    "features.plot(kind='bar', title='Count (features)');"
   ]
  },
  {
   "cell_type": "code",
   "execution_count": null,
   "metadata": {
    "id": "guvS7ynHd0t3"
   },
   "outputs": [],
   "source": [
    "# dataset - divisão em conjunto de treino e teste \n",
    "X = df.drop('TYPE', axis=1)\n",
    "y = df.TYPE\n",
    "\n",
    "X_train, X_test, y_train, y_test = train_test_split(X, y, random_state=0)"
   ]
  },
  {
   "cell_type": "code",
   "execution_count": null,
   "metadata": {
    "colab": {
     "base_uri": "https://localhost:8080/"
    },
    "id": "hWrRRcLdfnIy",
    "outputId": "90e6ca2b-c921-43ce-b812-84b8cf8ec5e7"
   },
   "outputs": [
    {
     "name": "stdout",
     "output_type": "stream",
     "text": [
      "FLU        18742\n",
      "ALLERGY    12271\n",
      "COVID       1541\n",
      "COLD         785\n",
      "Name: TYPE, dtype: int64\n"
     ]
    }
   ],
   "source": [
    "#Desbalanceamento \n",
    "print(y_train.value_counts())"
   ]
  },
  {
   "cell_type": "code",
   "execution_count": null,
   "metadata": {
    "colab": {
     "base_uri": "https://localhost:8080/"
    },
    "id": "Aasn-pDdd8FA",
    "outputId": "b945f2b6-8615-41a1-d374-681b0c386fdb"
   },
   "outputs": [
    {
     "data": {
      "text/plain": [
       "VotingClassifier(estimators=[('nb', GaussianNB()),\n",
       "                             ('dt', DecisionTreeClassifier()),\n",
       "                             ('knn', KNeighborsClassifier())])"
      ]
     },
     "execution_count": 9,
     "metadata": {},
     "output_type": "execute_result"
    }
   ],
   "source": [
    "model1 = GaussianNB()\n",
    "model2 = DecisionTreeClassifier()\n",
    "model3 = KNeighborsClassifier(n_neighbors = 5)\n",
    "\n",
    "modelo_ensemble = VotingClassifier(estimators=[('nb', model1),('dt', model2),('knn', model3)]) \n",
    "\n",
    "modelo_ensemble.fit(X_train, y_train)"
   ]
  },
  {
   "cell_type": "code",
   "execution_count": null,
   "metadata": {
    "colab": {
     "base_uri": "https://localhost:8080/"
    },
    "id": "GKHu-M_rgBSV",
    "outputId": "0bf8e17d-4790-42f1-cd39-32f53160b8c4"
   },
   "outputs": [
    {
     "data": {
      "text/plain": [
       "0.8977865754903726"
      ]
     },
     "execution_count": 10,
     "metadata": {},
     "output_type": "execute_result"
    }
   ],
   "source": [
    "modelo_ensemble.score(X_test, y_test)"
   ]
  },
  {
   "cell_type": "markdown",
   "metadata": {
    "id": "Rn0KJZG2jzoI"
   },
   "source": [
    "TESTE 1: Treinando o modelo utilizando o conjunto de treino com as classes desbalanceadas"
   ]
  },
  {
   "cell_type": "markdown",
   "metadata": {
    "id": "WmTLTlvLggfr"
   },
   "source": [
    "Classification Report\n",
    "\n",
    "```\n",
    "Precisão (precision) - dentre todas as classificações Verdadeiros Positivos que o modelo fez, quantas estão corretas.\n",
    "```"
   ]
  },
  {
   "cell_type": "code",
   "execution_count": null,
   "metadata": {
    "colab": {
     "base_uri": "https://localhost:8080/"
    },
    "id": "Kbr6UiE9eZU1",
    "outputId": "e9f1e16a-3fb4-4e93-e367-0f11e2944fcc"
   },
   "outputs": [
    {
     "name": "stdout",
     "output_type": "stream",
     "text": [
      "              precision    recall  f1-score   support\n",
      "\n",
      "     ALLERGY       0.97      0.97      0.97      4110\n",
      "        COLD       0.36      0.46      0.40       239\n",
      "       COVID       0.29      0.37      0.32       507\n",
      "         FLU       0.94      0.91      0.93      6258\n",
      "\n",
      "    accuracy                           0.90     11114\n",
      "   macro avg       0.64      0.68      0.66     11114\n",
      "weighted avg       0.91      0.90      0.90     11114\n",
      "\n"
     ]
    }
   ],
   "source": [
    "modelo_ensemble.fit(X_train,y_train)\n",
    "y_pred = modelo_ensemble.predict(X_test)\n",
    "print(classification_report(y_test, y_pred)) #avaliação"
   ]
  },
  {
   "cell_type": "markdown",
   "metadata": {
    "id": "uBre-_HJjpxQ"
   },
   "source": [
    "TESTE 2: Treinando o modelo e aplicando a abordagem Sampling para lidar com as classes desabalanceadas"
   ]
  },
  {
   "cell_type": "code",
   "execution_count": null,
   "metadata": {
    "id": "R6FhVR4VjLle"
   },
   "outputs": [],
   "source": [
    "# técnica under-sampling\n",
    "rus = RandomUnderSampler()\n",
    "X_res, y_res = rus.fit_resample(X_train, y_train)"
   ]
  },
  {
   "cell_type": "code",
   "execution_count": null,
   "metadata": {
    "id": "EOzD2Tf6kDPR"
   },
   "outputs": [],
   "source": [
    "print(y_train.value_counts()) #divisão conjunto de dados desbalanceada\n",
    "\n",
    "print(y_res.value_counts()) #divisão conjunto de dados após undersample"
   ]
  },
  {
   "cell_type": "code",
   "execution_count": null,
   "metadata": {
    "id": "e7IjDvH9jWao"
   },
   "outputs": [],
   "source": [
    "modelo_ensemble.fit(X_res, y_res)\n",
    "y_pred = modelo_ensemble.predict(X_test)\n",
    "\n",
    "print(classification_report(y_test, y_pred)) "
   ]
  },
  {
   "cell_type": "markdown",
   "metadata": {
    "id": "Gh2pBPyhwhQB"
   },
   "source": [
    "###Utilizar o Classification Report para avaliar o resultado individual dos métodos de classificação"
   ]
  },
  {
   "cell_type": "code",
   "execution_count": null,
   "metadata": {
    "id": "-cuYKRF8wsr4"
   },
   "outputs": [],
   "source": [
    "# KNN, Naive Bayes e Àrvores de Decisão \n",
    "# Analisar o resultados (sem reamostragem, com reamostragem - balanceamento)\n",
    "# Utilizando o dataset COVID\n",
    "# Aplicar Validação Cruzada para obter diferentes versões do conjunto teste e treinamento"
   ]
  }
 ],
 "metadata": {
  "colab": {
   "name": "Machine Learning - AULA 5.ipynb",
   "provenance": []
  },
  "kernelspec": {
   "display_name": "Python 3 (ipykernel)",
   "language": "python",
   "name": "python3"
  },
  "language_info": {
   "codemirror_mode": {
    "name": "ipython",
    "version": 3
   },
   "file_extension": ".py",
   "mimetype": "text/x-python",
   "name": "python",
   "nbconvert_exporter": "python",
   "pygments_lexer": "ipython3",
   "version": "3.9.6"
  }
 },
 "nbformat": 4,
 "nbformat_minor": 1
}
