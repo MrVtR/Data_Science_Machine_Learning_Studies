{
  "nbformat": 4,
  "nbformat_minor": 0,
  "metadata": {
    "colab": {
      "name": "Machine Learning - AULA 2-1.ipynb",
      "provenance": []
    },
    "kernelspec": {
      "name": "python3",
      "display_name": "Python 3"
    },
    "language_info": {
      "name": "python"
    }
  },
  "cells": [
    {
      "cell_type": "markdown",
      "source": [
        "###Combinação de métodos - Ensemble"
      ],
      "metadata": {
        "id": "WTDU1pl9Jm66"
      }
    },
    {
      "cell_type": "markdown",
      "source": [
        "**Ensemble VotingClassifier** - `Considera a predição que receber a maior quantidade de votos como a escolhida`"
      ],
      "metadata": {
        "id": "yXX_MfF_NSB4"
      }
    },
    {
      "cell_type": "code",
      "execution_count": null,
      "metadata": {
        "id": "22zGy2D9JgRQ"
      },
      "outputs": [],
      "source": [
        "import pandas as pd\n",
        "\n",
        "from sklearn.model_selection import train_test_split\n",
        "\n",
        "#Ensemble\n",
        "from sklearn.ensemble import VotingClassifier\n",
        "\n",
        "#Classificadores\n",
        "from sklearn.neighbors import KNeighborsClassifier\n",
        "from sklearn.naive_bayes import GaussianNB\n",
        "from sklearn.tree import DecisionTreeClassifier "
      ]
    },
    {
      "cell_type": "markdown",
      "source": [
        "Conjunto de Dados - [Mobile Price](https://drive.google.com/file/d/1uCps0JVzGhwuxU6JPLEJmLvlcVNH2ykW/view?usp=sharing)"
      ],
      "metadata": {
        "id": "nsw6GsHwvimN"
      }
    },
    {
      "cell_type": "code",
      "source": [
        "# dataset - divisão em conjunto de treino e teste \n",
        "URL = '/content/Mobile Price Classification.csv'\n",
        "df = pd.read_csv(URL)\n",
        "\n",
        "X = df.drop('price_range', axis=1)\n",
        "y = df.price_range\n",
        "\n",
        "X_train, X_test, y_train, y_test = train_test_split(X, y, random_state=0)\n"
      ],
      "metadata": {
        "id": "3AVppssYJ0dI"
      },
      "execution_count": null,
      "outputs": []
    },
    {
      "cell_type": "code",
      "source": [
        "model1 = GaussianNB()\n",
        "model2 = DecisionTreeClassifier(max_depth = 10)\n",
        "model3 = KNeighborsClassifier(n_neighbors = 5, p=2)\n",
        "model = VotingClassifier(estimators=[\n",
        "                                     ('nb', model1), \n",
        "                                     ('dt', model2),\n",
        "                                     ('knn', model3)]) "
      ],
      "metadata": {
        "id": "3Ei2EabFJ2tX"
      },
      "execution_count": null,
      "outputs": []
    },
    {
      "cell_type": "code",
      "source": [
        "model.fit(X_train,y_train)\n",
        "y_pred = model.predict(X_test)\n",
        "\n",
        "model.score(X_test, y_test)"
      ],
      "metadata": {
        "colab": {
          "base_uri": "https://localhost:8080/"
        },
        "id": "NAjuoSTiJ3ZQ",
        "outputId": "4bdd8258-29d7-49db-e375-cac5b9506d3d"
      },
      "execution_count": null,
      "outputs": [
        {
          "output_type": "execute_result",
          "data": {
            "text/plain": [
              "0.888"
            ]
          },
          "metadata": {},
          "execution_count": 7
        }
      ]
    },
    {
      "cell_type": "markdown",
      "source": [
        "**RandomForestClassifier** - `ajusta vários classificadores de árvore de decisão em várias subamostras do conjunto de dados e usa a média para melhorar a precisão preditiva`"
      ],
      "metadata": {
        "id": "GM5OP_hfMRQz"
      }
    },
    {
      "cell_type": "code",
      "source": [
        "from sklearn.ensemble import RandomForestClassifier"
      ],
      "metadata": {
        "id": "akELz8FPMRc_"
      },
      "execution_count": null,
      "outputs": []
    },
    {
      "cell_type": "code",
      "source": [
        "# dataset - divisão em conjunto de treino e teste \n",
        "URL = '/content/Mobile Price Classification.csv'\n",
        "df = pd.read_csv(URL)\n",
        "\n",
        "X = df.drop('price_range', axis=1)\n",
        "y = df.price_range\n",
        "\n",
        "X_train, X_test, y_train, y_test = train_test_split(X, y, random_state=0)"
      ],
      "metadata": {
        "id": "RHIX0J5XMaGY"
      },
      "execution_count": null,
      "outputs": []
    },
    {
      "cell_type": "code",
      "source": [
        "# Treinando modelo\n",
        "model = RandomForestClassifier()\n",
        "model.fit(X_train, y_train) "
      ],
      "metadata": {
        "colab": {
          "base_uri": "https://localhost:8080/"
        },
        "id": "IkcBS8ISMdkR",
        "outputId": "34b91976-9b87-4e2d-8450-bcd8ed026efd"
      },
      "execution_count": null,
      "outputs": [
        {
          "output_type": "execute_result",
          "data": {
            "text/plain": [
              "RandomForestClassifier()"
            ]
          },
          "metadata": {},
          "execution_count": 10
        }
      ]
    },
    {
      "cell_type": "code",
      "source": [
        "model.score(X_test, y_test)"
      ],
      "metadata": {
        "colab": {
          "base_uri": "https://localhost:8080/"
        },
        "id": "KLRe75nRMnMz",
        "outputId": "e452b44e-289d-44c8-d030-fdc8129e150e"
      },
      "execution_count": null,
      "outputs": [
        {
          "output_type": "execute_result",
          "data": {
            "text/plain": [
              "0.876"
            ]
          },
          "metadata": {},
          "execution_count": 11
        }
      ]
    }
  ]
}