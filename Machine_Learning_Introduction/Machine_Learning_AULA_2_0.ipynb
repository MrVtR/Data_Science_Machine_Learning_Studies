{
  "nbformat": 4,
  "nbformat_minor": 0,
  "metadata": {
    "colab": {
      "name": "Machine Learning - AULA 2-0.ipynb",
      "provenance": []
    },
    "kernelspec": {
      "name": "python3",
      "display_name": "Python 3"
    },
    "language_info": {
      "name": "python"
    }
  },
  "cells": [
    {
      "cell_type": "markdown",
      "source": [
        "###Algoritmo KNN - Classificação"
      ],
      "metadata": {
        "id": "gbFiEm_07XUN"
      }
    },
    {
      "cell_type": "code",
      "execution_count": null,
      "metadata": {
        "id": "yiBNElRSnr62"
      },
      "outputs": [],
      "source": [
        "import pandas as pd\n",
        "from sklearn.model_selection import train_test_split \n",
        "from sklearn.neighbors import KNeighborsClassifier #KNN"
      ]
    },
    {
      "cell_type": "markdown",
      "source": [
        "Download Conjunto de Dados [Íris](https://drive.google.com/file/d/1zU372zcHbv3ezRIUYONAkZBz5tsgCnM8/view?usp=sharing)"
      ],
      "metadata": {
        "id": "NoVydcaa7Eze"
      }
    },
    {
      "cell_type": "code",
      "source": [
        "df = pd.read_csv('/content/iris.csv' ) #conjunto de dados Íris"
      ],
      "metadata": {
        "id": "dN_TnENWvmq_"
      },
      "execution_count": null,
      "outputs": []
    },
    {
      "cell_type": "code",
      "source": [
        "print(df.head()) #visualizar as primeiras linhas do conjunto de dados Íris"
      ],
      "metadata": {
        "id": "un2spfKp5a4-",
        "colab": {
          "base_uri": "https://localhost:8080/"
        },
        "outputId": "dd545401-3f59-4093-94ac-1d855f592fe7"
      },
      "execution_count": null,
      "outputs": [
        {
          "output_type": "stream",
          "name": "stdout",
          "text": [
            "   sepal.length  sepal.width  petal.length  petal.width variety\n",
            "0           5.1          3.5           1.4          0.2  Setosa\n",
            "1           4.9          3.0           1.4          0.2  Setosa\n",
            "2           4.7          3.2           1.3          0.2  Setosa\n",
            "3           4.6          3.1           1.5          0.2  Setosa\n",
            "4           5.0          3.6           1.4          0.2  Setosa\n"
          ]
        }
      ]
    },
    {
      "cell_type": "code",
      "source": [
        "df.variety.unique() #exibe as classes"
      ],
      "metadata": {
        "id": "yasC1ps3vpKZ",
        "colab": {
          "base_uri": "https://localhost:8080/"
        },
        "outputId": "d40a0d2b-7f76-47ef-b1cb-d2bbf11f5432"
      },
      "execution_count": null,
      "outputs": [
        {
          "output_type": "execute_result",
          "data": {
            "text/plain": [
              "array(['Setosa', 'Versicolor', 'Virginica'], dtype=object)"
            ]
          },
          "metadata": {},
          "execution_count": 5
        }
      ]
    },
    {
      "cell_type": "code",
      "source": [
        "print(df.variety.value_counts()) #número de amostras por classe"
      ],
      "metadata": {
        "id": "4EGgImpp8aiN",
        "colab": {
          "base_uri": "https://localhost:8080/"
        },
        "outputId": "de789e41-0503-4b88-c50f-d34efce051cb"
      },
      "execution_count": null,
      "outputs": [
        {
          "output_type": "stream",
          "name": "stdout",
          "text": [
            "Setosa        50\n",
            "Versicolor    50\n",
            "Virginica     50\n",
            "Name: variety, dtype: int64\n"
          ]
        }
      ]
    },
    {
      "cell_type": "code",
      "source": [
        "X = df.drop('variety', axis=1) #remove a variety (target)\n",
        "y = df.variety   #define variety (classes) como target\n"
      ],
      "metadata": {
        "id": "z9edBh-bvrK6"
      },
      "execution_count": null,
      "outputs": []
    },
    {
      "cell_type": "code",
      "source": [
        "# divisão do conjunto de dados em Treinamento e Teste\n",
        "X_train, X_test, y_train, y_test = train_test_split(X, y, test_size=0.25)\n"
      ],
      "metadata": {
        "id": "WR-MBlJ8vt2w"
      },
      "execution_count": null,
      "outputs": []
    },
    {
      "cell_type": "code",
      "source": [
        "#Reduzir a escala numérica das colunas, para que todas estejam dentro de uma mesma escala de valor\n",
        "from sklearn.preprocessing import StandardScaler\n",
        "\n",
        "scaler = StandardScaler()  \n",
        "scaler.fit(X)  #Calcula a média e desvio padrão para serem usados ​​para o redimensionamento \n",
        "\n",
        "X_train = scaler.transform(X_train)  \n",
        "X_test = scaler.transform(X_test) \n"
      ],
      "metadata": {
        "id": "qkJod23R9gRm"
      },
      "execution_count": null,
      "outputs": []
    },
    {
      "cell_type": "code",
      "source": [
        "knn = KNeighborsClassifier(n_neighbors = 5, p = 2) #p = 2 distância euclideana"
      ],
      "metadata": {
        "id": "PlGnB9u1vwVb"
      },
      "execution_count": null,
      "outputs": []
    },
    {
      "cell_type": "code",
      "source": [
        "knn.fit(X_train,y_train) #método fit, treinando o modelo com dados de treinamento"
      ],
      "metadata": {
        "id": "P1HHzKn8vyuW",
        "colab": {
          "base_uri": "https://localhost:8080/"
        },
        "outputId": "0f1e558f-e9df-41db-ab9c-b4d110a2fdd4"
      },
      "execution_count": null,
      "outputs": [
        {
          "output_type": "execute_result",
          "data": {
            "text/plain": [
              "KNeighborsClassifier()"
            ]
          },
          "metadata": {},
          "execution_count": 24
        }
      ]
    },
    {
      "cell_type": "code",
      "source": [
        "knn.score(X_test,y_test) #Verificando Score"
      ],
      "metadata": {
        "id": "cSx3mCdyv2PO",
        "colab": {
          "base_uri": "https://localhost:8080/"
        },
        "outputId": "2f9cdb6e-d727-4f22-aa4d-f3b72b391bc3"
      },
      "execution_count": null,
      "outputs": [
        {
          "output_type": "execute_result",
          "data": {
            "text/plain": [
              "0.9473684210526315"
            ]
          },
          "metadata": {},
          "execution_count": 25
        }
      ]
    },
    {
      "cell_type": "markdown",
      "source": [
        "###Algoritmo Naive Bayes - Classificação"
      ],
      "metadata": {
        "id": "wOsUL2hMEaeb"
      }
    },
    {
      "cell_type": "code",
      "source": [
        "import pandas as pd\n",
        "from sklearn.model_selection import train_test_split\n",
        "from sklearn.naive_bayes import GaussianNB #Naive Bayes"
      ],
      "metadata": {
        "id": "Mj9IpeDAKTf0"
      },
      "execution_count": null,
      "outputs": []
    },
    {
      "cell_type": "code",
      "source": [
        "df = pd.read_csv('/content/iris.csv' ) #conjunto de dados Íris"
      ],
      "metadata": {
        "id": "1fAoZ9RIKWDx"
      },
      "execution_count": null,
      "outputs": []
    },
    {
      "cell_type": "code",
      "source": [
        "X = df.drop('variety', axis=1) #remove a variety (target)\n",
        "y = df.variety   #define variety (classes) como target"
      ],
      "metadata": {
        "id": "ni7t-TO2KYLx"
      },
      "execution_count": null,
      "outputs": []
    },
    {
      "cell_type": "code",
      "source": [
        "# divisão do conjunto de dados em Treinamento e Teste\n",
        "X_train, X_test, y_train, y_test = train_test_split(X, y, test_size=0.25)"
      ],
      "metadata": {
        "id": "fa1BNWQuKZz0"
      },
      "execution_count": null,
      "outputs": []
    },
    {
      "cell_type": "code",
      "source": [
        "gnb = GaussianNB()\n",
        "gnb.fit(X_train, y_train)  #método fit, treinando o modelo com dados de treinamento"
      ],
      "metadata": {
        "id": "rsVczn8TKbfq",
        "colab": {
          "base_uri": "https://localhost:8080/"
        },
        "outputId": "15f0a171-dd94-46b6-94ad-f60967efe9c5"
      },
      "execution_count": null,
      "outputs": [
        {
          "output_type": "execute_result",
          "data": {
            "text/plain": [
              "GaussianNB()"
            ]
          },
          "metadata": {},
          "execution_count": 37
        }
      ]
    },
    {
      "cell_type": "code",
      "source": [
        "gnb.score(X_test,y_test) #score do modelo"
      ],
      "metadata": {
        "id": "o4yfAaTQKe-2",
        "colab": {
          "base_uri": "https://localhost:8080/"
        },
        "outputId": "17631183-01f2-4412-d1bc-73eb130f116a"
      },
      "execution_count": null,
      "outputs": [
        {
          "output_type": "execute_result",
          "data": {
            "text/plain": [
              "0.9473684210526315"
            ]
          },
          "metadata": {},
          "execution_count": 38
        }
      ]
    },
    {
      "cell_type": "code",
      "source": [
        "print(X_test.head())"
      ],
      "metadata": {
        "id": "Kk6iV7C9RTgR",
        "colab": {
          "base_uri": "https://localhost:8080/"
        },
        "outputId": "8ede6385-c9b4-4409-ae35-cb951f771644"
      },
      "execution_count": null,
      "outputs": [
        {
          "output_type": "stream",
          "name": "stdout",
          "text": [
            "     sepal.length  sepal.width  petal.length  petal.width\n",
            "123           6.3          2.7           4.9          1.8\n",
            "132           6.4          2.8           5.6          2.2\n",
            "6             4.6          3.4           1.4          0.3\n",
            "93            5.0          2.3           3.3          1.0\n",
            "12            4.8          3.0           1.4          0.1\n"
          ]
        }
      ]
    },
    {
      "cell_type": "code",
      "source": [
        "y_pred = gnb.predict(X_test) #testando o modelo\n",
        "\n",
        "print('Classificador:', y_pred[1])\n",
        "print('Valor Real:', y_test.iloc[1])"
      ],
      "metadata": {
        "id": "nmJhDKFkROAO",
        "colab": {
          "base_uri": "https://localhost:8080/"
        },
        "outputId": "bd646977-9424-4a1b-a29b-0c983b52d8c1"
      },
      "execution_count": null,
      "outputs": [
        {
          "output_type": "stream",
          "name": "stdout",
          "text": [
            "Classificador: Virginica\n",
            "Valor Real: Virginica\n"
          ]
        }
      ]
    },
    {
      "cell_type": "markdown",
      "source": [
        "###Exercícios"
      ],
      "metadata": {
        "id": "XdxEUsd95fwV"
      }
    },
    {
      "cell_type": "markdown",
      "source": [
        "Realizar download do conjunto de dados [Mobile Price Classification](https://drive.google.com/file/d/1uCps0JVzGhwuxU6JPLEJmLvlcVNH2ykW/view?usp=sharing)\n",
        "\n",
        "Realizar o pré-processamento dos dados se necessário\n",
        "\n",
        "Utilizar os métodos KNN ou Naive Bayes para a tarefa de aprendizado de máquina - classificação - faixa de preço do celular (price_range) \n"
      ],
      "metadata": {
        "id": "mnaKV7Qs5iZc"
      }
    },
    {
      "cell_type": "code",
      "source": [
        "## Digite seu código aqui\n"
      ],
      "metadata": {
        "id": "C5HOSH8-nL1T"
      },
      "execution_count": null,
      "outputs": []
    }
  ]
}